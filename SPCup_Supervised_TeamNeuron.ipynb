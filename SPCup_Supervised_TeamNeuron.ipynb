{
  "nbformat": 4,
  "nbformat_minor": 0,
  "metadata": {
    "colab": {
      "name": "SPCup_Supervised_TeamNeuron.ipynb",
      "provenance": [],
      "collapsed_sections": []
    },
    "kernelspec": {
      "name": "python3",
      "display_name": "Python 3"
    }
  },
  "cells": [
    {
      "cell_type": "markdown",
      "metadata": {
        "id": "2M9MmxJ_vPOH",
        "colab_type": "text"
      },
      "source": [
        "# Supervised Learning"
      ]
    },
    {
      "cell_type": "markdown",
      "metadata": {
        "id": "iuxAt5hzvAG0",
        "colab_type": "text"
      },
      "source": [
        "## Importing Libraries"
      ]
    },
    {
      "cell_type": "code",
      "metadata": {
        "id": "iTqhVWmU-UNp",
        "colab_type": "code",
        "colab": {}
      },
      "source": [
        "import numpy as np\n",
        "import pandas as pd\n",
        "import seaborn as sns\n",
        "import matplotlib.pyplot as plt\n",
        "from scipy import stats\n",
        "from sklearn.model_selection import train_test_split"
      ],
      "execution_count": 0,
      "outputs": []
    },
    {
      "cell_type": "markdown",
      "metadata": {
        "id": "1ofvrEqovVP3",
        "colab_type": "text"
      },
      "source": [
        "##Importing the Files"
      ]
    },
    {
      "cell_type": "code",
      "metadata": {
        "id": "H0IettXR8gDO",
        "colab_type": "code",
        "colab": {}
      },
      "source": [
        "#from google.colab import files\n",
        "#uploaded = files.upload()"
      ],
      "execution_count": 0,
      "outputs": []
    },
    {
      "cell_type": "markdown",
      "metadata": {
        "id": "ZvbCON9BveAD",
        "colab_type": "text"
      },
      "source": [
        "## Making of Data Frame from the File\n",
        "\n"
      ]
    },
    {
      "cell_type": "markdown",
      "metadata": {
        "id": "yLRGyBLWnPNm",
        "colab_type": "text"
      },
      "source": [
        "### File: Battery"
      ]
    },
    {
      "cell_type": "code",
      "metadata": {
        "id": "XqNKPk1V9JNG",
        "colab_type": "code",
        "colab": {}
      },
      "source": [
        "df=pd.read_csv('https://raw.githubusercontent.com/soumyashaw/SPCup/master/battery.csv')\n",
        "df1 = pd.DataFrame()\n",
        "\n",
        "df1['voltage'] = df['voltage']\n",
        "df1['current'] = df['current']\n",
        "df1n = df['normality']\n",
        "\n",
        "df=pd.read_csv('https://raw.githubusercontent.com/soumyashaw/SPCup/master/battery_t.csv')\n",
        "tdf1 = pd.DataFrame()\n",
        "\n",
        "tdf1['voltage'] = df['voltage']\n",
        "tdf1['current'] = df['current']"
      ],
      "execution_count": 0,
      "outputs": []
    },
    {
      "cell_type": "markdown",
      "metadata": {
        "id": "qrFxNInTnYtT",
        "colab_type": "text"
      },
      "source": [
        "### File: Compass_hdg"
      ]
    },
    {
      "cell_type": "code",
      "metadata": {
        "id": "KpAtRbKsDAMU",
        "colab_type": "code",
        "colab": {}
      },
      "source": [
        "df=pd.read_csv('https://raw.githubusercontent.com/soumyashaw/SPCup/master/compass_hdg.csv')\n",
        "df2 = pd.DataFrame()\n",
        "\n",
        "df2['data'] = df['data']\n",
        "df2n = df['normality']\n",
        "\n",
        "df=pd.read_csv('https://raw.githubusercontent.com/soumyashaw/SPCup/master/compass_hdg_t.csv')\n",
        "tdf2 = pd.DataFrame()\n",
        "\n",
        "tdf2['data'] = df['data']"
      ],
      "execution_count": 0,
      "outputs": []
    },
    {
      "cell_type": "markdown",
      "metadata": {
        "id": "rJy7oz-Pndhz",
        "colab_type": "text"
      },
      "source": [
        "### File: GPS_vel"
      ]
    },
    {
      "cell_type": "code",
      "metadata": {
        "id": "DUuPZUM5FpBJ",
        "colab_type": "code",
        "colab": {}
      },
      "source": [
        "df=pd.read_csv('https://raw.githubusercontent.com/soumyashaw/SPCup/master/gps_vel.csv')\n",
        "df3 = pd.DataFrame()\n",
        "\n",
        "df3['xl'] = df['xl']\n",
        "df3['yl'] = df['yl']\n",
        "df3n = df['normality']\n",
        "\n",
        "df=pd.read_csv('https://raw.githubusercontent.com/soumyashaw/SPCup/master/gps_vel_t.csv')\n",
        "tdf3 = pd.DataFrame()\n",
        "\n",
        "tdf3['xl'] = df['xl']\n",
        "tdf3['yl'] = df['yl']"
      ],
      "execution_count": 0,
      "outputs": []
    },
    {
      "cell_type": "markdown",
      "metadata": {
        "id": "1taOaT27niqF",
        "colab_type": "text"
      },
      "source": [
        "### File: IMU_data"
      ]
    },
    {
      "cell_type": "code",
      "metadata": {
        "id": "gtLxr79fLpnt",
        "colab_type": "code",
        "colab": {}
      },
      "source": [
        "df=pd.read_csv('https://raw.githubusercontent.com/soumyashaw/SPCup/master/imu_data.csv')\n",
        "df4 = pd.DataFrame()\n",
        "\n",
        "df4['xo'] = df['xo']\n",
        "df4['yo'] = df['yo']\n",
        "df4['zo'] = df['zo']\n",
        "df4['wo'] = df['wo']\n",
        "df4['xav'] = df['xav']\n",
        "df4['yav'] = df['yav']\n",
        "df4['zav'] = df['zav']\n",
        "df4['xla'] = df['xla']\n",
        "df4['yla'] = df['yla']\n",
        "df4['zla'] = df['zla']\n",
        "df4n = df['normality']\n",
        "\n",
        "df=pd.read_csv('https://raw.githubusercontent.com/soumyashaw/SPCup/master/imu_data_t.csv')\n",
        "tdf4 = pd.DataFrame()\n",
        "\n",
        "tdf4['xo'] = df['xo']\n",
        "tdf4['yo'] = df['yo']\n",
        "tdf4['zo'] = df['zo']\n",
        "tdf4['wo'] = df['wo']\n",
        "tdf4['xav'] = df['xav']\n",
        "tdf4['yav'] = df['yav']\n",
        "tdf4['zav'] = df['zav']\n",
        "tdf4['xla'] = df['xla']\n",
        "tdf4['yla'] = df['yla']\n",
        "tdf4['zla'] = df['zla']"
      ],
      "execution_count": 0,
      "outputs": []
    },
    {
      "cell_type": "markdown",
      "metadata": {
        "id": "1hlslTxynlTw",
        "colab_type": "text"
      },
      "source": [
        "### File: IMU_data_raw"
      ]
    },
    {
      "cell_type": "code",
      "metadata": {
        "id": "8ZYzOICkLqEb",
        "colab_type": "code",
        "colab": {}
      },
      "source": [
        "df=pd.read_csv('https://raw.githubusercontent.com/soumyashaw/SPCup/master/imu_data_raw.csv')\n",
        "df5 = pd.DataFrame()\n",
        "\n",
        "df5['xav'] = df['xav']\n",
        "df5['yav'] = df['yav']\n",
        "df5['zav'] = df['zav']\n",
        "df5['xla'] = df['xla']\n",
        "df5['yla'] = df['yla']\n",
        "df5['zla'] = df['zla']\n",
        "df5n = df['normality']\n",
        "\n",
        "df=pd.read_csv('https://raw.githubusercontent.com/soumyashaw/SPCup/master/imu_data_raw_t.csv')\n",
        "tdf5 = pd.DataFrame()\n",
        "\n",
        "tdf5['xav'] = df['xav']\n",
        "tdf5['yav'] = df['yav']\n",
        "tdf5['zav'] = df['zav']\n",
        "tdf5['xla'] = df['xla']\n",
        "tdf5['yla'] = df['yla']\n",
        "tdf5['zla'] = df['zla']"
      ],
      "execution_count": 0,
      "outputs": []
    },
    {
      "cell_type": "markdown",
      "metadata": {
        "id": "N8K0tQUXno-_",
        "colab_type": "text"
      },
      "source": [
        "### File: IMU_mag"
      ]
    },
    {
      "cell_type": "code",
      "metadata": {
        "id": "d5R5QYVsLqJu",
        "colab_type": "code",
        "colab": {}
      },
      "source": [
        "df=pd.read_csv('https://raw.githubusercontent.com/soumyashaw/SPCup/master/imu_mag.csv')\n",
        "df6 = pd.DataFrame()\n",
        "\n",
        "df6['xmf'] = df['xmf']\n",
        "df6['ymf'] = df['ymf']\n",
        "df6['zmf'] = df['zmf']\n",
        "df6n = df['normality']\n",
        "\n",
        "df=pd.read_csv('https://raw.githubusercontent.com/soumyashaw/SPCup/master/imu_mag_t.csv')\n",
        "tdf6 = pd.DataFrame()\n",
        "\n",
        "tdf6['xmf'] = df['xmf']\n",
        "tdf6['ymf'] = df['ymf']\n",
        "tdf6['zmf'] = df['zmf']"
      ],
      "execution_count": 0,
      "outputs": []
    },
    {
      "cell_type": "markdown",
      "metadata": {
        "id": "dhHVoozHnrP7",
        "colab_type": "text"
      },
      "source": [
        "### File: IMU_static_pressure"
      ]
    },
    {
      "cell_type": "code",
      "metadata": {
        "id": "IG_hvfemLqOX",
        "colab_type": "code",
        "colab": {}
      },
      "source": [
        "df=pd.read_csv('https://raw.githubusercontent.com/soumyashaw/SPCup/master/imu_static_pressure.csv')\n",
        "df7 = pd.DataFrame()\n",
        "\n",
        "df7['fluid_pressure'] = df['fluid_pressure']\n",
        "df7['variance'] = df['variance']\n",
        "df7n = df['normality']\n",
        "\n",
        "df=pd.read_csv('https://raw.githubusercontent.com/soumyashaw/SPCup/master/imu_static_pressure_t.csv')\n",
        "tdf7 = pd.DataFrame()\n",
        "\n",
        "tdf7['fluid_pressure'] = df['fluid_pressure']\n",
        "tdf7['variance'] = df['variance']"
      ],
      "execution_count": 0,
      "outputs": []
    },
    {
      "cell_type": "markdown",
      "metadata": {
        "id": "b5qPmxM7nuUu",
        "colab_type": "text"
      },
      "source": [
        "### File: IMU_temperature"
      ]
    },
    {
      "cell_type": "code",
      "metadata": {
        "id": "tVyHKkmRLqTO",
        "colab_type": "code",
        "colab": {}
      },
      "source": [
        "df=pd.read_csv('https://raw.githubusercontent.com/soumyashaw/SPCup/master/imu_temperature.csv')\n",
        "df8 = pd.DataFrame()\n",
        "\n",
        "df8['temperature'] = df['temperature']\n",
        "df8['variance'] = df['variance']\n",
        "df8n = df['normality']\n",
        "\n",
        "df=pd.read_csv('https://raw.githubusercontent.com/soumyashaw/SPCup/master/imu_temperature_t.csv')\n",
        "tdf8 = pd.DataFrame()\n",
        "\n",
        "tdf8['temperature'] = df['temperature']\n",
        "tdf8['variance'] = df['variance']"
      ],
      "execution_count": 0,
      "outputs": []
    },
    {
      "cell_type": "markdown",
      "metadata": {
        "id": "d9p6r1cMnxHs",
        "colab_type": "text"
      },
      "source": [
        "### File: Local_position\n",
        "##### File: Testing file for the model not available in the dataset uploaded in later stage"
      ]
    },
    {
      "cell_type": "code",
      "metadata": {
        "id": "lU_nMAh4LqcK",
        "colab_type": "code",
        "outputId": "8c83fbe0-d67a-4317-d33a-caee305ada8a",
        "colab": {
          "base_uri": "https://localhost:8080/",
          "height": 54
        }
      },
      "source": [
        "df=pd.read_csv('https://raw.githubusercontent.com/soumyashaw/SPCup/master/local_position.csv')\n",
        "df9 = pd.DataFrame()\n",
        "\n",
        "df9['xo'] = df['xo']\n",
        "df9['yo'] = df['yo']\n",
        "df9['zo'] = df['zo']\n",
        "df9['wo'] = df['wo']\n",
        "df9['xp'] = df['xp']\n",
        "df9['yp'] = df['yp']\n",
        "df9['zp'] = df['zp']\n",
        "df9['xa'] = df['xa']\n",
        "df9['ya'] = df['ya']\n",
        "df9['za'] = df['za']\n",
        "df9['xtl'] = df['xtl']\n",
        "df9['ytl'] = df['ytl']\n",
        "df9['ztl'] = df['ztl']\n",
        "df9n = df['normality']\n",
        "\n",
        "\"\"\"\n",
        "df=pd.read_csv('local_position_t.csv')\n",
        "tdf9 = pd.DataFrame()\n",
        "\n",
        "tdf9['xo'] = df['xo']\n",
        "tdf9['yo'] = df['yo']\n",
        "tdf9['zo'] = df['zo']\n",
        "tdf9['wo'] = df['wo']\n",
        "tdf9['xp'] = df['xp']\n",
        "tdf9['yp'] = df['yp']\n",
        "tdf9['zp'] = df['zp']\n",
        "tdf9['xa'] = df['xa']\n",
        "tdf9['ya'] = df['ya']\n",
        "tdf9['za'] = df['za']\n",
        "tdf9['xtl'] = df['xtl']\n",
        "tdf9['ytl'] = df['ytl']\n",
        "tdf9['ztl'] = df['ztl']\n",
        "\"\"\""
      ],
      "execution_count": 0,
      "outputs": [
        {
          "output_type": "execute_result",
          "data": {
            "text/plain": [
              "\"\\ndf=pd.read_csv('local_position_t.csv')\\ntdf9 = pd.DataFrame()\\n\\ntdf9['xo'] = df['xo']\\ntdf9['yo'] = df['yo']\\ntdf9['zo'] = df['zo']\\ntdf9['wo'] = df['wo']\\ntdf9['xp'] = df['xp']\\ntdf9['yp'] = df['yp']\\ntdf9['zp'] = df['zp']\\ntdf9['xa'] = df['xa']\\ntdf9['ya'] = df['ya']\\ntdf9['za'] = df['za']\\ntdf9['xtl'] = df['xtl']\\ntdf9['ytl'] = df['ytl']\\ntdf9['ztl'] = df['ztl']\\n\""
            ]
          },
          "metadata": {
            "tags": []
          },
          "execution_count": 11
        }
      ]
    },
    {
      "cell_type": "markdown",
      "metadata": {
        "id": "w-BJBBQdoGwI",
        "colab_type": "text"
      },
      "source": [
        "### File: Pose\n",
        "##### File: Testing file for the model not available in the dataset uploaded in later stage"
      ]
    },
    {
      "cell_type": "code",
      "metadata": {
        "id": "VmrO10DILqlE",
        "colab_type": "code",
        "outputId": "8a4e30bd-96b3-4720-e88d-ab7df8403af6",
        "colab": {
          "base_uri": "https://localhost:8080/",
          "height": 54
        }
      },
      "source": [
        "df=pd.read_csv('https://raw.githubusercontent.com/soumyashaw/SPCup/master/pose.csv')\n",
        "df10 = pd.DataFrame()\n",
        "\n",
        "df10['xp'] = df['xp']\n",
        "df10['yp'] = df['yp']\n",
        "df10['zp'] = df['zp']\n",
        "df10['xo'] = df['xo']\n",
        "df10['yo'] = df['yo']\n",
        "df10['zo'] = df['zo']\n",
        "df10['wo'] = df['wo']\n",
        "df10n = df['normality']\n",
        "\"\"\"\n",
        "\n",
        "df=pd.read_csv('pose_t.csv')\n",
        "tdf10 = pd.DataFrame()\n",
        "\n",
        "tdf10['xp'] = df['xp']\n",
        "tdf10['yp'] = df['yp']\n",
        "tdf10['zp'] = df['zp']\n",
        "tdf10['xo'] = df['xo']\n",
        "tdf10['yo'] = df['yo']\n",
        "tdf10['zo'] = df['zo']\n",
        "tdf10['wo'] = df['wo']\n",
        "\"\"\""
      ],
      "execution_count": 0,
      "outputs": [
        {
          "output_type": "execute_result",
          "data": {
            "text/plain": [
              "\"\\n\\ndf=pd.read_csv('pose_t.csv')\\ntdf10 = pd.DataFrame()\\n\\ntdf10['xp'] = df['xp']\\ntdf10['yp'] = df['yp']\\ntdf10['zp'] = df['zp']\\ntdf10['xo'] = df['xo']\\ntdf10['yo'] = df['yo']\\ntdf10['zo'] = df['zo']\\ntdf10['wo'] = df['wo']\\n\""
            ]
          },
          "metadata": {
            "tags": []
          },
          "execution_count": 12
        }
      ]
    },
    {
      "cell_type": "markdown",
      "metadata": {
        "id": "dI_Qq6tAoPgF",
        "colab_type": "text"
      },
      "source": [
        "### File: Position_global"
      ]
    },
    {
      "cell_type": "code",
      "metadata": {
        "id": "yC3wfCGfLqrB",
        "colab_type": "code",
        "colab": {}
      },
      "source": [
        "df=pd.read_csv('https://raw.githubusercontent.com/soumyashaw/SPCup/master/position_global.csv')\n",
        "df11 = pd.DataFrame()\n",
        "covariance1 = []\n",
        "covariance2 = []\n",
        "covariance3 = []\n",
        "for i in df['position_covariance']:\n",
        "  i = i[1:]\n",
        "  i = i.split(',')\n",
        "  covariance1.append(float(i[0]))\n",
        "  covariance2.append(float(i[4]))\n",
        "  covariance3.append(float(i[8].split(']')[0]))\n",
        "\n",
        "df11['latitude'] = df['latitude']\n",
        "df11['longitude'] = df['longitude']\n",
        "df11['altitude'] = df['altitude']\n",
        "df11['covariance1'] = covariance1\n",
        "df11['covariance2'] = covariance2\n",
        "df11['covariance3'] = covariance3\n",
        "df11n = df['normality']\n",
        "\n",
        "df=pd.read_csv('https://raw.githubusercontent.com/soumyashaw/SPCup/master/position_global_t.csv')\n",
        "tdf11 = pd.DataFrame()\n",
        "tdf11['latitude'] = df['latitude']\n",
        "tdf11['longitude'] = df['longitude']\n",
        "tdf11['altitude'] = df['altitude']\n",
        "tdf11['covariance1'] = df['position_covariance0']\n",
        "tdf11['covariance2'] = df['position_covariance4']\n",
        "tdf11['covariance3'] = df['position_covariance8']"
      ],
      "execution_count": 0,
      "outputs": []
    },
    {
      "cell_type": "markdown",
      "metadata": {
        "id": "ji2MWUUBoSbN",
        "colab_type": "text"
      },
      "source": [
        "### File: Position_local"
      ]
    },
    {
      "cell_type": "code",
      "metadata": {
        "id": "W6qHSp8kLqia",
        "colab_type": "code",
        "colab": {}
      },
      "source": [
        "df=pd.read_csv('https://raw.githubusercontent.com/soumyashaw/SPCup/master/position_local.csv')\n",
        "df12 = pd.DataFrame()\n",
        "\n",
        "covariance1 = []\n",
        "covariance2 = []\n",
        "covariance3 = []\n",
        "\n",
        "for i in df['orientation_covariance']:\n",
        "  i = i[1:]\n",
        "  i = i.split(',')\n",
        "  covariance1.append(float(i[0]))\n",
        "  covariance2.append(float(i[7]))\n",
        "  covariance3.append(float(i[14]))\n",
        "\n",
        "df12['xp'] = df['xp']\n",
        "df12['yp'] = df['yp']\n",
        "df12['zp'] = df['zp']\n",
        "df12['xo'] = df['xo']\n",
        "df12['yo'] = df['yo']\n",
        "df12['zo'] = df['zo']\n",
        "df12['wo'] = df['wo']\n",
        "df12['xl'] = df['xl']\n",
        "df12['yl'] = df['yl']\n",
        "df12['zl'] = df['zl']\n",
        "df12['xa'] = df['xa']\n",
        "df12['ya'] = df['ya']\n",
        "df12['za'] = df['za']\n",
        "df12['covariance1'] = covariance1\n",
        "df12['covariance2'] = covariance2\n",
        "df12['covariance3'] = covariance3\n",
        "df12n = df['normality']\n",
        "\n",
        "df=pd.read_csv('https://raw.githubusercontent.com/soumyashaw/SPCup/master/position_local_t.csv')\n",
        "tdf12 = pd.DataFrame()\n",
        "tdf12['xp'] = df['xp']\n",
        "tdf12['yp'] = df['yp']\n",
        "tdf12['zp'] = df['zp']\n",
        "tdf12['xo'] = df['xo']\n",
        "tdf12['yo'] = df['yo']\n",
        "tdf12['zo'] = df['zo']\n",
        "tdf12['wo'] = df['wo']\n",
        "tdf12['xl'] = df['xl']\n",
        "tdf12['yl'] = df['yl']\n",
        "tdf12['zl'] = df['zl']\n",
        "tdf12['xa'] = df['xa']\n",
        "tdf12['ya'] = df['ya']\n",
        "tdf12['za'] = df['za']\n",
        "tdf12['covariance1'] = df['orientation_covariance0']\n",
        "tdf12['covariance2'] = df['orientation_covariance7']\n",
        "tdf12['covariance3'] = df['orientation_covariance14']"
      ],
      "execution_count": 0,
      "outputs": []
    },
    {
      "cell_type": "markdown",
      "metadata": {
        "id": "CrVBkEjRoXLS",
        "colab_type": "text"
      },
      "source": [
        "### File: Position_raw_fix"
      ]
    },
    {
      "cell_type": "code",
      "metadata": {
        "id": "Y81BsRz_LqYJ",
        "colab_type": "code",
        "colab": {}
      },
      "source": [
        "df=pd.read_csv('https://raw.githubusercontent.com/soumyashaw/SPCup/master/position_raw_fix.csv')\n",
        "df13 = pd.DataFrame()\n",
        "\n",
        "covariance1 = []\n",
        "covariance2 = []\n",
        "covariance3 = []\n",
        "\n",
        "for i in df['position_covariance']:\n",
        "  i = i[1:]\n",
        "  i = i.split(',')\n",
        "  covariance1.append(float(i[0]))\n",
        "  covariance2.append(float(i[4]))\n",
        "  covariance3.append(float(i[8].split(']')[0]))\n",
        "\n",
        "df13['latitude'] = df['latitude']\n",
        "df13['longitude'] = df['longitude']\n",
        "df13['altitude'] = df['altitude']\n",
        "df13['covariance1'] = covariance1\n",
        "df13['covariance2'] = covariance2\n",
        "df13['covariance3'] = covariance3\n",
        "df13n = df['normality']\n",
        "\n",
        "df=pd.read_csv('https://raw.githubusercontent.com/soumyashaw/SPCup/master/position_raw_fix_t.csv')\n",
        "tdf13 = pd.DataFrame()\n",
        "tdf13['latitude'] = df['latitude']\n",
        "tdf13['longitude'] = df['longitude']\n",
        "tdf13['altitude'] = df['altitude']\n",
        "tdf13['covariance1'] = df['position_covariance0']\n",
        "tdf13['covariance2'] = df['position_covariance4']\n",
        "tdf13['covariance3'] = df['position_covariance8']"
      ],
      "execution_count": 0,
      "outputs": []
    },
    {
      "cell_type": "markdown",
      "metadata": {
        "id": "q1r04Xr0oaDh",
        "colab_type": "text"
      },
      "source": [
        "### File: Rel_alt"
      ]
    },
    {
      "cell_type": "code",
      "metadata": {
        "id": "8jAWRZzCwi9_",
        "colab_type": "code",
        "colab": {}
      },
      "source": [
        "df=pd.read_csv('https://raw.githubusercontent.com/soumyashaw/SPCup/master/rel_alt.csv')\n",
        "df14 = pd.DataFrame()\n",
        "df14['data'] = df['data']\n",
        "df14n = df['normality']\n",
        "\n",
        "df=pd.read_csv('https://raw.githubusercontent.com/soumyashaw/SPCup/master/rel_alt_t.csv')\n",
        "tdf14 = pd.DataFrame()\n",
        "tdf14['data'] = df['data']"
      ],
      "execution_count": 0,
      "outputs": []
    },
    {
      "cell_type": "markdown",
      "metadata": {
        "id": "Fbeb4v80ocSX",
        "colab_type": "text"
      },
      "source": [
        "### File: Velocity_body\n",
        "##### File: Testing file for the model not available in the dataset uploaded in later stage"
      ]
    },
    {
      "cell_type": "code",
      "metadata": {
        "id": "AIS_ZEgEwjJd",
        "colab_type": "code",
        "outputId": "f636f169-8d95-44ca-99bf-d645192a66ce",
        "colab": {
          "base_uri": "https://localhost:8080/",
          "height": 54
        }
      },
      "source": [
        "df=pd.read_csv('https://raw.githubusercontent.com/soumyashaw/SPCup/master/velocity_body.csv')\n",
        "df15 = pd.DataFrame()\n",
        "\n",
        "df15['xlt'] = df['xlt']\n",
        "df15['ylt'] = df['ylt']\n",
        "df15['zlt'] = df['zlt']\n",
        "df15['xat'] = df['xat']\n",
        "df15['yat'] = df['yat']\n",
        "df15['zat'] = df['zat']\n",
        "df15n = df['normality']\n",
        "\n",
        "\"\"\"\n",
        "df=pd.read_csv('velocity_body_t.csv')\n",
        "tdf15 = pd.DataFrame()\n",
        "tdf15['xlt'] = df['xlt']\n",
        "tdf15['ylt'] = df['ylt']\n",
        "tdf15['zlt'] = df['zlt']\n",
        "tdf15['xat'] = df['xat']\n",
        "tdf15['yat'] = df['yat']\n",
        "tdf15['zat'] = df['zat']\n",
        "\"\"\""
      ],
      "execution_count": 0,
      "outputs": [
        {
          "output_type": "execute_result",
          "data": {
            "text/plain": [
              "\"\\ndf=pd.read_csv('velocity_body_t.csv')\\ntdf15 = pd.DataFrame()\\ntdf15['xlt'] = df['xlt']\\ntdf15['ylt'] = df['ylt']\\ntdf15['zlt'] = df['zlt']\\ntdf15['xat'] = df['xat']\\ntdf15['yat'] = df['yat']\\ntdf15['zat'] = df['zat']\\n\""
            ]
          },
          "metadata": {
            "tags": []
          },
          "execution_count": 17
        }
      ]
    },
    {
      "cell_type": "markdown",
      "metadata": {
        "id": "HTqfw6nlpo2e",
        "colab_type": "text"
      },
      "source": [
        "### File: Velocity_local\n",
        "##### File: Testing file for the model not available in the dataset uploaded in later stage"
      ]
    },
    {
      "cell_type": "code",
      "metadata": {
        "id": "if6nltR6wjE8",
        "colab_type": "code",
        "outputId": "27ac0bdf-9f43-45b4-95fe-ae0aabe5ff58",
        "colab": {
          "base_uri": "https://localhost:8080/",
          "height": 34
        }
      },
      "source": [
        "df=pd.read_csv('https://raw.githubusercontent.com/soumyashaw/SPCup/master/velocity_local.csv')\n",
        "df16 = pd.DataFrame()\n",
        "\n",
        "df16['xlt'] = df['xlt']\n",
        "df16['ylt'] = df['ylt']\n",
        "df16['zlt'] = df['zlt']\n",
        "df16n = df['normality']\n",
        "\n",
        "\"\"\"\n",
        "df=pd.read_csv('velocity_local_t.csv')\n",
        "tdf16 = pd.DataFrame()\n",
        "\n",
        "tdf16['xlt'] = df['xlt']\n",
        "tdf16['ylt'] = df['ylt']\n",
        "tdf16['zlt'] = df['zlt']\n",
        "\"\"\""
      ],
      "execution_count": 0,
      "outputs": [
        {
          "output_type": "execute_result",
          "data": {
            "text/plain": [
              "\"\\ndf=pd.read_csv('velocity_local_t.csv')\\ntdf16 = pd.DataFrame()\\n\\ntdf16['xlt'] = df['xlt']\\ntdf16['ylt'] = df['ylt']\\ntdf16['zlt'] = df['zlt']\\n\""
            ]
          },
          "metadata": {
            "tags": []
          },
          "execution_count": 18
        }
      ]
    },
    {
      "cell_type": "markdown",
      "metadata": {
        "id": "mvEz2B_-proT",
        "colab_type": "text"
      },
      "source": [
        "### File: VFR_hud"
      ]
    },
    {
      "cell_type": "code",
      "metadata": {
        "id": "xoksJjeQ1C9I",
        "colab_type": "code",
        "colab": {}
      },
      "source": [
        "df=pd.read_csv('https://raw.githubusercontent.com/soumyashaw/SPCup/master/vfr_hud.csv')\n",
        "df17 = pd.DataFrame()\n",
        "\n",
        "df17['airspeed'] = df['airspeed']\n",
        "df17['groundspeed'] = df['groundspeed']\n",
        "df17['heading'] = df['heading']\n",
        "df17['throttle'] = df['throttle']\n",
        "df17['altitude'] = df['altitude']\n",
        "df17['climb'] = df['climb']\n",
        "df17n = df['normality']\n",
        "\n",
        "df=pd.read_csv('https://raw.githubusercontent.com/soumyashaw/SPCup/master/vfr_hud_t.csv')\n",
        "tdf17 = pd.DataFrame()\n",
        "\n",
        "tdf17['airspeed'] = df['airspeed']\n",
        "tdf17['groundspeed'] = df['groundspeed']\n",
        "tdf17['heading'] = df['heading']\n",
        "tdf17['throttle'] = df['throttle']\n",
        "tdf17['altitude'] = df['altitude']\n",
        "tdf17['climb'] = df['climb']"
      ],
      "execution_count": 0,
      "outputs": []
    },
    {
      "cell_type": "markdown",
      "metadata": {
        "id": "TVeSWOzMp3At",
        "colab_type": "text"
      },
      "source": [
        "## Test Train Splitting of Data"
      ]
    },
    {
      "cell_type": "code",
      "metadata": {
        "id": "U-GXTrUSVaDR",
        "colab_type": "code",
        "colab": {}
      },
      "source": [
        "X_train1, X_test1, y_train1, y_test1 = train_test_split(df1, df1n, test_size=0.8, shuffle = True, random_state=42)\n",
        "X_train2, X_test2, y_train2, y_test2 = train_test_split(df2, df2n, test_size=0.8, shuffle = True, random_state=42)\n",
        "X_train3, X_test3, y_train3, y_test3 = train_test_split(df3, df3n, test_size=0.8, shuffle = True, random_state=42)\n",
        "X_train4, X_test4, y_train4, y_test4 = train_test_split(df4, df4n, test_size=0.8, shuffle = True, random_state=42)\n",
        "X_train5, X_test5, y_train5, y_test5 = train_test_split(df5, df5n, test_size=0.8, shuffle = True, random_state=42)\n",
        "X_train6, X_test6, y_train6, y_test6 = train_test_split(df6, df6n, test_size=0.8, shuffle = True, random_state=42)\n",
        "X_train7, X_test7, y_train7, y_test7 = train_test_split(df7, df7n, test_size=0.8, shuffle = True, random_state=42)\n",
        "X_train8, X_test8, y_train8, y_test8 = train_test_split(df8, df8n, test_size=0.8, shuffle = True, random_state=42)\n",
        "X_train9, X_test9, y_train9, y_test9 = train_test_split(df9, df9n, test_size=0.8, shuffle = True, random_state=42)\n",
        "X_train10, X_test10, y_train10, y_test10 = train_test_split(df10, df10n, test_size=0.8, shuffle = True, random_state=42)\n",
        "X_train11, X_test11, y_train11, y_test11 = train_test_split(df11, df11n, test_size=0.8, shuffle = True, random_state=42)\n",
        "X_train12, X_test12, y_train12, y_test12 = train_test_split(df12, df12n, test_size=0.8, shuffle = True, random_state=42)\n",
        "X_train13, X_test13, y_train13, y_test13 = train_test_split(df13, df13n, test_size=0.8, shuffle = True, random_state=42)\n",
        "X_train14, X_test14, y_train14, y_test14 = train_test_split(df14, df14n, test_size=0.8, shuffle = True, random_state=42)\n",
        "X_train15, X_test15, y_train15, y_test15 = train_test_split(df15, df15n, test_size=0.8, shuffle = True, random_state=42)\n",
        "X_train16, X_test16, y_train16, y_test16 = train_test_split(df16, df16n, test_size=0.8, shuffle = True, random_state=42)\n",
        "X_train17, X_test17, y_train17, y_test17 = train_test_split(df17, df17n, test_size=0.8, shuffle = True, random_state=42)"
      ],
      "execution_count": 0,
      "outputs": []
    },
    {
      "cell_type": "markdown",
      "metadata": {
        "id": "-JRjAvH5p9xu",
        "colab_type": "text"
      },
      "source": [
        "## Training the Models & Testing"
      ]
    },
    {
      "cell_type": "code",
      "metadata": {
        "id": "8516LKIIXr10",
        "colab_type": "code",
        "outputId": "d8e9bcbd-b7df-4cfe-dd8f-f727c8c2ba61",
        "colab": {
          "base_uri": "https://localhost:8080/",
          "height": 537
        }
      },
      "source": [
        "from sklearn.neighbors import KNeighborsClassifier\n",
        "from sklearn import metrics\n",
        "k = 5\n",
        "knn = KNeighborsClassifier(n_neighbors=k)\n",
        "knn.fit(X_train1,y_train1)\n",
        "y_pred1 = knn.predict(X_test1)\n",
        "score = metrics.accuracy_score(y_test1,y_pred1)\n",
        "print(\"KNN Accuracy: \", score*100)\n",
        "\n",
        "from sklearn.linear_model import LogisticRegression\n",
        "from sklearn import metrics\n",
        "logreg = LogisticRegression().fit(X_train1, y_train1)\n",
        "y_pred1 = logreg.predict(X_test1)\n",
        "print(\"Logistic Regression Accuracy: \", metrics.accuracy_score(y_test1, y_pred1)*100)\n",
        "\n",
        "from sklearn.svm import SVC\n",
        "clf1 = SVC(gamma='auto')\n",
        "clf1.fit(X_train1, y_train1)\n",
        "y_pred1 = clf1.predict(X_test1)\n",
        "print(\"SVM (Default) Accuracy: \", metrics.accuracy_score(y_test1, y_pred1)*100)\n",
        "\n",
        "\n",
        "clf2 = SVC(gamma='auto',kernel = 'sigmoid')\n",
        "clf2.fit(X_train1, y_train1)\n",
        "y_pred1 = clf2.predict(X_test1)\n",
        "print(\"SVM (Sigmoid) Accuracy: \", metrics.accuracy_score(y_test1, y_pred1)*100)\n",
        "\n",
        "clf3 = SVC(gamma='auto',kernel = 'poly')\n",
        "clf3.fit(X_train1, y_train1)\n",
        "y_pred1 = clf3.predict(X_test1)\n",
        "print(\"SVM (Poly) Accuracy: \", metrics.accuracy_score(y_pred1,y_test1)*100)\n",
        "\n",
        "from sklearn import tree\n",
        "t = tree.DecisionTreeClassifier()\n",
        "treemodel = t.fit(X_train1,y_train1)\n",
        "pred = treemodel.predict(X_test1)\n",
        "\n",
        "from sklearn.metrics import classification_report\n",
        "print(classification_report(y_test1,pred))\n",
        "tree.plot_tree(treemodel.fit(X_test1, y_test1))"
      ],
      "execution_count": 0,
      "outputs": [
        {
          "output_type": "stream",
          "text": [
            "KNN Accuracy:  99.62264150943396\n",
            "Logistic Regression Accuracy:  99.62264150943396\n",
            "SVM (Default) Accuracy:  99.62264150943396\n",
            "SVM (Sigmoid) Accuracy:  89.05660377358491\n",
            "SVM (Poly) Accuracy:  99.62264150943396\n",
            "              precision    recall  f1-score   support\n",
            "\n",
            "           0       1.00      0.97      0.98        29\n",
            "           1       1.00      1.00      1.00       236\n",
            "\n",
            "    accuracy                           1.00       265\n",
            "   macro avg       1.00      0.98      0.99       265\n",
            "weighted avg       1.00      1.00      1.00       265\n",
            "\n"
          ],
          "name": "stdout"
        },
        {
          "output_type": "execute_result",
          "data": {
            "text/plain": [
              "[Text(167.4, 163.07999999999998, 'X[0] <= 16.15\\ngini = 0.195\\nsamples = 265\\nvalue = [29, 236]'),\n",
              " Text(83.7, 54.360000000000014, 'gini = 0.0\\nsamples = 29\\nvalue = [29, 0]'),\n",
              " Text(251.10000000000002, 54.360000000000014, 'gini = 0.0\\nsamples = 236\\nvalue = [0, 236]')]"
            ]
          },
          "metadata": {
            "tags": []
          },
          "execution_count": 21
        },
        {
          "output_type": "display_data",
          "data": {
            "image/png": "[encoded data removed]",
            "text/plain": [
              "<Figure size 432x288 with 1 Axes>"
            ]
          },
          "metadata": {
            "tags": []
          }
        }
      ]
    },
    {
      "cell_type": "code",
      "metadata": {
        "id": "MCF2718P2oEd",
        "colab_type": "code",
        "outputId": "66de5c7e-7213-4a3e-a43a-a9b3ff17d64c",
        "colab": {
          "base_uri": "https://localhost:8080/",
          "height": 119
        }
      },
      "source": [
        "prediction1 = knn.predict(tdf1)\n",
        "count = 0\n",
        "for i in prediction1:\n",
        "  if i==1:\n",
        "    count+=1\n",
        "print(\"KNN Accuracy:\", (count/len(tdf1))*100,\"%\")\n",
        "\n",
        "prediction2 = logreg.predict(tdf1)\n",
        "count = 0\n",
        "for i in prediction2:\n",
        "  if i==1:\n",
        "    count+=1\n",
        "print(\"Logistic Regression Accuracy:\", (count/len(tdf1))*100,\"%\")\n",
        "\n",
        "prediction3 = clf1.predict(tdf1)\n",
        "count = 0\n",
        "for i in prediction3:\n",
        "  if i==1:\n",
        "    count+=1\n",
        "print(\"SVM (Default) Accuracy:\", (count/len(tdf1))*100,\"%\")\n",
        "\n",
        "prediction4 = clf2.predict(tdf1)\n",
        "count = 0\n",
        "for i in prediction4:\n",
        "  if i==1:\n",
        "    count+=1\n",
        "print(\"SVM (Sigmoid) Accuracy:\", (count/len(tdf1))*100,\"%\")\n",
        "\n",
        "prediction5 = clf3.predict(tdf1)\n",
        "count = 0\n",
        "for i in prediction5:\n",
        "  if i==1:\n",
        "    count+=1\n",
        "print(\"SVM (Poly) Accuracy:\", (count/len(tdf1))*100,\"%\")\n",
        "\n",
        "prediction6 = treemodel.predict(tdf1)\n",
        "count = 0\n",
        "for i in prediction6:\n",
        "  if i==1:\n",
        "    count+=1\n",
        "print(\"Decision Tree Accuracy:\", (count/len(tdf1))*100,\"%\")"
      ],
      "execution_count": 0,
      "outputs": [
        {
          "output_type": "stream",
          "text": [
            "KNN Accuracy: 100.0 %\n",
            "Logistic Regression Accuracy: 100.0 %\n",
            "SVM (Default) Accuracy: 100.0 %\n",
            "SVM (Sigmoid) Accuracy: 100.0 %\n",
            "SVM (Poly) Accuracy: 100.0 %\n",
            "Decision Tree Accuracy: 100.0 %\n"
          ],
          "name": "stdout"
        }
      ]
    },
    {
      "cell_type": "code",
      "metadata": {
        "id": "NGjceTtFFChr",
        "colab_type": "code",
        "outputId": "551dbb06-98a8-4d64-f6e4-91190dabdd90",
        "colab": {
          "base_uri": "https://localhost:8080/",
          "height": 554
        }
      },
      "source": [
        "k = 7\n",
        "knn = KNeighborsClassifier(n_neighbors=k)\n",
        "knn.fit(X_train2,y_train2)\n",
        "y_pred2 = knn.predict(X_test2)\n",
        "score = metrics.accuracy_score(y_test2,y_pred2)\n",
        "print(\"KNN Accuracy: \", score*100)\n",
        "\n",
        "logreg = LogisticRegression().fit(X_train2, y_train2)\n",
        "y_pred2 = logreg.predict(X_test2)\n",
        "print(\"Logistic Regression Accuracy: \", metrics.accuracy_score(y_test2, y_pred2)*100)\n",
        "\n",
        "clf1 = SVC(gamma='auto')\n",
        "clf1.fit(X_train2, y_train2)\n",
        "y_pred2 = clf1.predict(X_test2)\n",
        "print(\"SVM (Default) Accuracy: \", metrics.accuracy_score(y_test2, y_pred2)*100)\n",
        "\n",
        "clf2 = SVC(gamma='auto',kernel = 'sigmoid')\n",
        "clf2.fit(X_train2, y_train2)\n",
        "y_pred2 = clf2.predict(X_test2)\n",
        "print(\"SVM (Sigmoid) Accuracy: \", metrics.accuracy_score(y_test2, y_pred2)*100)\n",
        "\n",
        "\"\"\"clf3 = SVC(gamma='auto',kernel = 'poly')\n",
        "clf3.fit(X_train2, y_train2)\n",
        "y_pred2 = clf3.predict(X_test2)\n",
        "print(\"SVM (Poly) Accuracy: \", metrics.accuracy_score(y_pred2,y_test2)*100)\"\"\"\n",
        "\n",
        "t = tree.DecisionTreeClassifier()\n",
        "treemodel = t.fit(X_train2,y_train2)\n",
        "pred = treemodel.predict(X_test2)\n",
        "\n",
        "print(classification_report(y_test2,pred))\n",
        "tree.plot_tree(treemodel.fit(X_test2, y_test2))"
      ],
      "execution_count": 0,
      "outputs": [
        {
          "output_type": "stream",
          "text": [
            "KNN Accuracy:  94.8905109489051\n",
            "Logistic Regression Accuracy:  94.16058394160584\n",
            "SVM (Default) Accuracy:  93.7956204379562\n",
            "SVM (Sigmoid) Accuracy:  90.14598540145985\n",
            "              precision    recall  f1-score   support\n",
            "\n",
            "           0       1.00      1.00      1.00        27\n",
            "           1       1.00      1.00      1.00       247\n",
            "\n",
            "    accuracy                           1.00       274\n",
            "   macro avg       1.00      1.00      1.00       274\n",
            "weighted avg       1.00      1.00      1.00       274\n",
            "\n"
          ],
          "name": "stdout"
        },
        {
          "output_type": "execute_result",
          "data": {
            "text/plain": [
              "[Text(133.92000000000002, 181.2, 'X[0] <= 32.625\\ngini = 0.178\\nsamples = 274\\nvalue = [27, 247]'),\n",
              " Text(66.96000000000001, 108.72, 'gini = 0.0\\nsamples = 14\\nvalue = [14, 0]'),\n",
              " Text(200.88000000000002, 108.72, 'X[0] <= 113.68\\ngini = 0.095\\nsamples = 260\\nvalue = [13, 247]'),\n",
              " Text(133.92000000000002, 36.23999999999998, 'gini = 0.0\\nsamples = 247\\nvalue = [0, 247]'),\n",
              " Text(267.84000000000003, 36.23999999999998, 'gini = 0.0\\nsamples = 13\\nvalue = [13, 0]')]"
            ]
          },
          "metadata": {
            "tags": []
          },
          "execution_count": 23
        },
        {
          "output_type": "display_data",
          "data": {
            "image/png": "[encoded data removed]",
            "text/plain": [
              "<Figure size 432x288 with 1 Axes>"
            ]
          },
          "metadata": {
            "tags": []
          }
        }
      ]
    },
    {
      "cell_type": "code",
      "metadata": {
        "id": "L8mJ6Oqkfofp",
        "colab_type": "code",
        "outputId": "8b36f771-27b4-44e2-b360-51e0cd485d20",
        "colab": {
          "base_uri": "https://localhost:8080/",
          "height": 102
        }
      },
      "source": [
        "prediction1 = knn.predict(tdf2)\n",
        "count = 0\n",
        "for i in prediction1:\n",
        "  if i==1:\n",
        "    count+=1\n",
        "print(\"KNN Accuracy:\", (count/len(tdf2))*100,\"%\")\n",
        "\n",
        "prediction2 = logreg.predict(tdf2)\n",
        "count = 0\n",
        "for i in prediction2:\n",
        "  if i==1:\n",
        "    count+=1\n",
        "print(\"Logistic Regression Accuracy:\", (count/len(tdf2))*100,\"%\")\n",
        "\n",
        "prediction3 = clf1.predict(tdf2)\n",
        "count = 0\n",
        "for i in prediction3:\n",
        "  if i==1:\n",
        "    count+=1\n",
        "print(\"SVM (Default) Accuracy:\", (count/len(tdf2))*100,\"%\")\n",
        "\n",
        "prediction4 = clf2.predict(tdf2)\n",
        "count = 0\n",
        "for i in prediction4:\n",
        "  if i==1:\n",
        "    count+=1\n",
        "print(\"SVM (Sigmoid) Accuracy:\", (count/len(tdf2))*100,\"%\")\n",
        "\n",
        "\"\"\"prediction5 = clf3.predict(tdf2)\n",
        "count = 0\n",
        "for i in prediction5:\n",
        "  if i==1:\n",
        "    count+=1\n",
        "print(\"SVM (Poly) Accuracy:\", (count/len(tdf2))*100,\"%\")\"\"\"\n",
        "\n",
        "prediction6 = treemodel.predict(tdf2)\n",
        "count = 0\n",
        "for i in prediction6:\n",
        "  if i==1:\n",
        "    count+=1\n",
        "print(\"Decision Tree Accuracy:\", (count/len(tdf2))*100,\"%\")"
      ],
      "execution_count": 0,
      "outputs": [
        {
          "output_type": "stream",
          "text": [
            "KNN Accuracy: 100.0 %\n",
            "Logistic Regression Accuracy: 100.0 %\n",
            "SVM (Default) Accuracy: 100.0 %\n",
            "SVM (Sigmoid) Accuracy: 100.0 %\n",
            "Decision Tree Accuracy: 100.0 %\n"
          ],
          "name": "stdout"
        }
      ]
    },
    {
      "cell_type": "code",
      "metadata": {
        "id": "8INlMS9EGuXm",
        "colab_type": "code",
        "outputId": "27414380-e178-4807-83aa-6345063752d5",
        "colab": {
          "base_uri": "https://localhost:8080/",
          "height": 605
        }
      },
      "source": [
        "k = 3\n",
        "knn = KNeighborsClassifier(n_neighbors=k)\n",
        "knn.fit(X_train3,y_train3)\n",
        "y_pred3 = knn.predict(X_test3)\n",
        "score = metrics.accuracy_score(y_test3,y_pred3)\n",
        "print(\"KNN Accuracy: \", score*100)\n",
        "\n",
        "logreg = LogisticRegression().fit(X_train3, y_train3)\n",
        "y_pred3 = logreg.predict(X_test3)\n",
        "print(\"Logistic Regression Accuracy: \", metrics.accuracy_score(y_test3, y_pred3)*100)\n",
        "\n",
        "clf3 = SVC(gamma='auto')\n",
        "clf1.fit(X_train3, y_train3)\n",
        "y_pred3 = clf1.predict(X_test3)\n",
        "print(\"SVM (Default) Accuracy: \", metrics.accuracy_score(y_pred3,y_test3)*100)\n",
        "\n",
        "clf2 = SVC(gamma='auto',kernel = 'sigmoid')\n",
        "clf2.fit(X_train3, y_train3)\n",
        "y_pred3 = clf2.predict(X_test3)\n",
        "print(\"SVM (Sigmoid) Accuracy: \", metrics.accuracy_score(y_pred3,y_test3)*100)\n",
        "\n",
        "clf3 = SVC(gamma='auto',kernel = 'poly')\n",
        "clf3.fit(X_train3, y_train3)\n",
        "y_pred3 = clf3.predict(X_test3)\n",
        "print(\"SVM (Poly) Accuracy: \", metrics.accuracy_score(y_pred3,y_test3)*100)\n",
        "\n",
        "t = tree.DecisionTreeClassifier()\n",
        "treemodel = t.fit(X_train3,y_train3)\n",
        "pred = treemodel.predict(X_test3)\n",
        "\n",
        "print(classification_report(y_test3,pred))\n",
        "tree.plot_tree(treemodel.fit(X_test3, y_test3))"
      ],
      "execution_count": 0,
      "outputs": [
        {
          "output_type": "stream",
          "text": [
            "KNN Accuracy:  96.89655172413794\n",
            "Logistic Regression Accuracy:  90.3448275862069\n",
            "SVM (Default) Accuracy:  92.75862068965517\n",
            "SVM (Sigmoid) Accuracy:  90.6896551724138\n",
            "SVM (Poly) Accuracy:  90.6896551724138\n",
            "              precision    recall  f1-score   support\n",
            "\n",
            "           0       1.00      0.93      0.97        30\n",
            "           1       0.99      1.00      1.00       260\n",
            "\n",
            "    accuracy                           0.99       290\n",
            "   macro avg       1.00      0.97      0.98       290\n",
            "weighted avg       0.99      0.99      0.99       290\n",
            "\n"
          ],
          "name": "stdout"
        },
        {
          "output_type": "execute_result",
          "data": {
            "text/plain": [
              "[Text(200.88000000000002, 190.26, 'X[0] <= 0.014\\ngini = 0.185\\nsamples = 290\\nvalue = [30, 260]'),\n",
              " Text(133.92000000000002, 135.9, 'X[1] <= -0.057\\ngini = 0.037\\nsamples = 265\\nvalue = [5, 260]'),\n",
              " Text(66.96000000000001, 81.53999999999999, 'gini = 0.0\\nsamples = 4\\nvalue = [4, 0]'),\n",
              " Text(200.88000000000002, 81.53999999999999, 'X[0] <= -1.118\\ngini = 0.008\\nsamples = 261\\nvalue = [1, 260]'),\n",
              " Text(133.92000000000002, 27.180000000000007, 'gini = 0.0\\nsamples = 1\\nvalue = [1, 0]'),\n",
              " Text(267.84000000000003, 27.180000000000007, 'gini = 0.0\\nsamples = 260\\nvalue = [0, 260]'),\n",
              " Text(267.84000000000003, 135.9, 'gini = 0.0\\nsamples = 25\\nvalue = [25, 0]')]"
            ]
          },
          "metadata": {
            "tags": []
          },
          "execution_count": 25
        },
        {
          "output_type": "display_data",
          "data": {
            "image/png": "[encoded data removed]",
            "text/plain": [
              "<Figure size 432x288 with 1 Axes>"
            ]
          },
          "metadata": {
            "tags": []
          }
        }
      ]
    },
    {
      "cell_type": "code",
      "metadata": {
        "id": "9nNsFE6KkjA_",
        "colab_type": "code",
        "outputId": "f12da6c8-3aad-4d8f-87de-305e811d62b8",
        "colab": {
          "base_uri": "https://localhost:8080/",
          "height": 119
        }
      },
      "source": [
        "prediction1 = knn.predict(tdf3)\n",
        "count = 0\n",
        "for i in prediction1:\n",
        "  if i==1:\n",
        "    count+=1\n",
        "print(\"KNN Accuracy:\", (count/len(tdf3))*100,\"%\")\n",
        "\n",
        "prediction2 = logreg.predict(tdf3)\n",
        "count = 0\n",
        "for i in prediction2:\n",
        "  if i==1:\n",
        "    count+=1\n",
        "print(\"Logistic Regression Accuracy:\", (count/len(tdf3))*100,\"%\")\n",
        "\n",
        "prediction3 = clf1.predict(tdf3)\n",
        "count = 0\n",
        "for i in prediction3:\n",
        "  if i==1:\n",
        "    count+=1\n",
        "print(\"SVM (Default) Accuracy:\", (count/len(tdf3))*100,\"%\")\n",
        "\n",
        "prediction4 = clf2.predict(tdf3)\n",
        "count = 0\n",
        "for i in prediction4:\n",
        "  if i==1:\n",
        "    count+=1\n",
        "print(\"SVM (Sigmoid) Accuracy:\", (count/len(tdf3))*100,\"%\")\n",
        "\n",
        "prediction5 = clf3.predict(tdf3)\n",
        "count = 0\n",
        "for i in prediction5:\n",
        "  if i==1:\n",
        "    count+=1\n",
        "print(\"SVM (Poly) Accuracy:\", (count/len(tdf3))*100,\"%\")\n",
        "\n",
        "prediction6 = treemodel.predict(tdf3)\n",
        "count = 0\n",
        "for i in prediction6:\n",
        "  if i==1:\n",
        "    count+=1\n",
        "print(\"Decision Tree Accuracy:\", (count/len(tdf3))*100,\"%\")"
      ],
      "execution_count": 0,
      "outputs": [
        {
          "output_type": "stream",
          "text": [
            "KNN Accuracy: 100.0 %\n",
            "Logistic Regression Accuracy: 100.0 %\n",
            "SVM (Default) Accuracy: 100.0 %\n",
            "SVM (Sigmoid) Accuracy: 100.0 %\n",
            "SVM (Poly) Accuracy: 100.0 %\n",
            "Decision Tree Accuracy: 100.0 %\n"
          ],
          "name": "stdout"
        }
      ]
    },
    {
      "cell_type": "code",
      "metadata": {
        "id": "neGuaf0uUtq1",
        "colab_type": "code",
        "outputId": "8b11d907-c485-473f-fd44-53713d7029e4",
        "colab": {
          "base_uri": "https://localhost:8080/",
          "height": 537
        }
      },
      "source": [
        "k = 4\n",
        "knn = KNeighborsClassifier(n_neighbors=k)\n",
        "knn.fit(X_train4,y_train4)\n",
        "y_pred4 = knn.predict(X_test4)\n",
        "score = metrics.accuracy_score(y_test4,y_pred4)\n",
        "print(\"KNN Accuracy: \", score*100)\n",
        "\n",
        "logreg = LogisticRegression().fit(X_train4, y_train4)\n",
        "y_pred4 = logreg.predict(X_test4)\n",
        "print(\"Logistic Regression Accuracy: \", metrics.accuracy_score(y_test4, y_pred4)*100)\n",
        "\n",
        "clf1 = SVC(gamma='auto')\n",
        "clf1.fit(X_train4, y_train4)\n",
        "y_pred4 = clf1.predict(X_test4)\n",
        "print(\"SVM (Default) Accuracy: \", metrics.accuracy_score(y_pred4,y_test4)*100)\n",
        "\n",
        "clf2 = SVC(gamma='auto',kernel = 'sigmoid')\n",
        "clf2.fit(X_train4, y_train4)\n",
        "y_pred4 = clf2.predict(X_test4)\n",
        "print(\"SVM (Sigmoid) Accuracy: \", metrics.accuracy_score(y_pred4,y_test4)*100)\n",
        "\n",
        "clf3 = SVC(gamma='auto',kernel = 'poly')\n",
        "clf3.fit(X_train4, y_train4)\n",
        "y_pred4 = clf3.predict(X_test4)\n",
        "print(\"SVM (Poly) Accuracy: \", metrics.accuracy_score(y_pred4,y_test4)*100)\n",
        "\n",
        "t = tree.DecisionTreeClassifier()\n",
        "treemodel = t.fit(X_train4,y_train4)\n",
        "pred = treemodel.predict(X_test4)\n",
        "\n",
        "print(classification_report(y_test4,pred))\n",
        "tree.plot_tree(treemodel.fit(X_test4, y_test4))"
      ],
      "execution_count": 0,
      "outputs": [
        {
          "output_type": "stream",
          "text": [
            "KNN Accuracy:  94.11764705882352\n",
            "Logistic Regression Accuracy:  94.48529411764706\n",
            "SVM (Default) Accuracy:  94.85294117647058\n",
            "SVM (Sigmoid) Accuracy:  93.01470588235294\n",
            "SVM (Poly) Accuracy:  99.63235294117648\n",
            "              precision    recall  f1-score   support\n",
            "\n",
            "           0       1.00      1.00      1.00        28\n",
            "           1       1.00      1.00      1.00       244\n",
            "\n",
            "    accuracy                           1.00       272\n",
            "   macro avg       1.00      1.00      1.00       272\n",
            "weighted avg       1.00      1.00      1.00       272\n",
            "\n"
          ],
          "name": "stdout"
        },
        {
          "output_type": "execute_result",
          "data": {
            "text/plain": [
              "[Text(167.4, 163.07999999999998, 'X[3] <= -0.856\\ngini = 0.185\\nsamples = 272\\nvalue = [28, 244]'),\n",
              " Text(83.7, 54.360000000000014, 'gini = 0.0\\nsamples = 244\\nvalue = [0, 244]'),\n",
              " Text(251.10000000000002, 54.360000000000014, 'gini = 0.0\\nsamples = 28\\nvalue = [28, 0]')]"
            ]
          },
          "metadata": {
            "tags": []
          },
          "execution_count": 27
        },
        {
          "output_type": "display_data",
          "data": {
            "image/png": "[encoded data removed]",
            "text/plain": [
              "<Figure size 432x288 with 1 Axes>"
            ]
          },
          "metadata": {
            "tags": []
          }
        }
      ]
    },
    {
      "cell_type": "code",
      "metadata": {
        "id": "YX-WIzIYk9PA",
        "colab_type": "code",
        "outputId": "bc89067e-2f2d-4de9-b39b-201d3379a42b",
        "colab": {
          "base_uri": "https://localhost:8080/",
          "height": 119
        }
      },
      "source": [
        "prediction1 = knn.predict(tdf4)\n",
        "count = 0\n",
        "for i in prediction1:\n",
        "  if i==1:\n",
        "    count+=1\n",
        "print(\"KNN Accuracy:\", (count/len(tdf4))*100,\"%\")\n",
        "\n",
        "prediction2 = logreg.predict(tdf4)\n",
        "count = 0\n",
        "for i in prediction2:\n",
        "  if i==1:\n",
        "    count+=1\n",
        "print(\"Logistic Regression Accuracy:\", (count/len(tdf4))*100,\"%\")\n",
        "\n",
        "prediction3 = clf1.predict(tdf4)\n",
        "count = 0\n",
        "for i in prediction3:\n",
        "  if i==1:\n",
        "    count+=1\n",
        "print(\"SVM (Default) Accuracy:\", (count/len(tdf4))*100,\"%\")\n",
        "\n",
        "prediction4 = clf2.predict(tdf4)\n",
        "count = 0\n",
        "for i in prediction4:\n",
        "  if i==1:\n",
        "    count+=1\n",
        "print(\"SVM (Sigmoid) Accuracy:\", (count/len(tdf4))*100,\"%\")\n",
        "\n",
        "prediction5 = clf3.predict(tdf4)\n",
        "count = 0\n",
        "for i in prediction5:\n",
        "  if i==1:\n",
        "    count+=1\n",
        "print(\"SVM (Poly) Accuracy:\", (count/len(tdf4))*100,\"%\")\n",
        "\n",
        "prediction6 = treemodel.predict(tdf4)\n",
        "count = 0\n",
        "for i in prediction6:\n",
        "  if i==1:\n",
        "    count+=1\n",
        "print(\"Decision Tree Accuracy:\", (count/len(tdf4))*100,\"%\")"
      ],
      "execution_count": 0,
      "outputs": [
        {
          "output_type": "stream",
          "text": [
            "KNN Accuracy: 98.34437086092716 %\n",
            "Logistic Regression Accuracy: 100.0 %\n",
            "SVM (Default) Accuracy: 100.0 %\n",
            "SVM (Sigmoid) Accuracy: 100.0 %\n",
            "SVM (Poly) Accuracy: 100.0 %\n",
            "Decision Tree Accuracy: 100.0 %\n"
          ],
          "name": "stdout"
        }
      ]
    },
    {
      "cell_type": "code",
      "metadata": {
        "id": "OumLPNd7XJBh",
        "colab_type": "code",
        "outputId": "b78505d5-22e5-43e9-ba0b-d8b963b19e36",
        "colab": {
          "base_uri": "https://localhost:8080/",
          "height": 945
        }
      },
      "source": [
        "k = 5\n",
        "knn = KNeighborsClassifier(n_neighbors=k)\n",
        "knn.fit(X_train5,y_train5)\n",
        "y_pred5 = knn.predict(X_test5)\n",
        "score = metrics.accuracy_score(y_test5,y_pred5)\n",
        "print(\"KNN Accuracy: \", score*100)\n",
        "\n",
        "logreg = LogisticRegression().fit(X_train5, y_train5)\n",
        "y_pred5 = logreg.predict(X_test5)\n",
        "print(\"Logistic Regression Accuracy: \", metrics.accuracy_score(y_test5, y_pred5)*100)\n",
        "\n",
        "clf1 = SVC(gamma='auto')\n",
        "clf1.fit(X_train5, y_train5)\n",
        "y_pred5 = clf1.predict(X_test5)\n",
        "print(\"SVM (Default) Accuracy: \", metrics.accuracy_score(y_pred5,y_test5)*100)\n",
        "\n",
        "clf2 = SVC(gamma='auto',kernel = 'sigmoid')\n",
        "clf2.fit(X_train5, y_train5)\n",
        "y_pred5 = clf2.predict(X_test5)\n",
        "print(\"SVM (Sigmoid) Accuracy: \", metrics.accuracy_score(y_pred5,y_test5)*100)\n",
        "\n",
        "clf3 = SVC(gamma='auto',kernel = 'poly')\n",
        "clf3.fit(X_train5, y_train5)\n",
        "y_pred5 = clf3.predict(X_test5)\n",
        "print(\"SVM (Sigmoid) Accuracy: \", metrics.accuracy_score(y_pred5,y_test5)*100)\n",
        "\n",
        "t = tree.DecisionTreeClassifier()\n",
        "treemodel = t.fit(X_train5,y_train5)\n",
        "pred = treemodel.predict(X_test5)\n",
        "\n",
        "print(classification_report(y_test5,pred))\n",
        "tree.plot_tree(treemodel.fit(X_test5, y_test5))"
      ],
      "execution_count": 0,
      "outputs": [
        {
          "output_type": "stream",
          "text": [
            "KNN Accuracy:  92.66666666666666\n",
            "Logistic Regression Accuracy:  93.66666666666667\n",
            "SVM (Default) Accuracy:  95.0\n",
            "SVM (Sigmoid) Accuracy:  93.0\n",
            "SVM (Sigmoid) Accuracy:  92.66666666666666\n",
            "              precision    recall  f1-score   support\n",
            "\n",
            "           0       0.69      0.69      0.69        32\n",
            "           1       0.96      0.96      0.96       268\n",
            "\n",
            "    accuracy                           0.93       300\n",
            "   macro avg       0.83      0.83      0.83       300\n",
            "weighted avg       0.93      0.93      0.93       300\n",
            "\n"
          ],
          "name": "stdout"
        },
        {
          "output_type": "execute_result",
          "data": {
            "text/plain": [
              "[Text(191.31428571428572, 205.35999999999999, 'X[5] <= 8.801\\ngini = 0.191\\nsamples = 300\\nvalue = [32, 268]'),\n",
              " Text(167.4, 181.2, 'gini = 0.0\\nsamples = 19\\nvalue = [19, 0]'),\n",
              " Text(215.22857142857143, 181.2, 'X[1] <= 0.3\\ngini = 0.088\\nsamples = 281\\nvalue = [13, 268]'),\n",
              " Text(191.31428571428572, 157.04, 'X[4] <= 0.431\\ngini = 0.069\\nsamples = 278\\nvalue = [10, 268]'),\n",
              " Text(95.65714285714286, 132.88, 'X[2] <= -0.255\\ngini = 0.03\\nsamples = 266\\nvalue = [4, 262]'),\n",
              " Text(71.74285714285715, 108.72, 'gini = 0.0\\nsamples = 1\\nvalue = [1, 0]'),\n",
              " Text(119.57142857142857, 108.72, 'X[1] <= 0.09\\ngini = 0.022\\nsamples = 265\\nvalue = [3, 262]'),\n",
              " Text(47.82857142857143, 84.56, 'X[4] <= 0.142\\ngini = 0.008\\nsamples = 247\\nvalue = [1, 246]'),\n",
              " Text(23.914285714285715, 60.400000000000006, 'gini = 0.0\\nsamples = 232\\nvalue = [0, 232]'),\n",
              " Text(71.74285714285715, 60.400000000000006, 'X[4] <= 0.152\\ngini = 0.124\\nsamples = 15\\nvalue = [1, 14]'),\n",
              " Text(47.82857142857143, 36.24000000000001, 'X[1] <= -0.024\\ngini = 0.5\\nsamples = 2\\nvalue = [1, 1]'),\n",
              " Text(23.914285714285715, 12.079999999999984, 'gini = 0.0\\nsamples = 1\\nvalue = [0, 1]'),\n",
              " Text(71.74285714285715, 12.079999999999984, 'gini = 0.0\\nsamples = 1\\nvalue = [1, 0]'),\n",
              " Text(95.65714285714286, 36.24000000000001, 'gini = 0.0\\nsamples = 13\\nvalue = [0, 13]'),\n",
              " Text(191.31428571428572, 84.56, 'X[2] <= 0.091\\ngini = 0.198\\nsamples = 18\\nvalue = [2, 16]'),\n",
              " Text(167.4, 60.400000000000006, 'X[1] <= 0.093\\ngini = 0.111\\nsamples = 17\\nvalue = [1, 16]'),\n",
              " Text(143.4857142857143, 36.24000000000001, 'X[2] <= 0.051\\ngini = 0.5\\nsamples = 2\\nvalue = [1, 1]'),\n",
              " Text(119.57142857142857, 12.079999999999984, 'gini = 0.0\\nsamples = 1\\nvalue = [1, 0]'),\n",
              " Text(167.4, 12.079999999999984, 'gini = 0.0\\nsamples = 1\\nvalue = [0, 1]'),\n",
              " Text(191.31428571428572, 36.24000000000001, 'gini = 0.0\\nsamples = 15\\nvalue = [0, 15]'),\n",
              " Text(215.22857142857143, 60.400000000000006, 'gini = 0.0\\nsamples = 1\\nvalue = [1, 0]'),\n",
              " Text(286.9714285714286, 132.88, 'X[4] <= 0.735\\ngini = 0.5\\nsamples = 12\\nvalue = [6, 6]'),\n",
              " Text(263.0571428571429, 108.72, 'X[2] <= -0.148\\ngini = 0.245\\nsamples = 7\\nvalue = [6, 1]'),\n",
              " Text(239.14285714285714, 84.56, 'gini = 0.0\\nsamples = 1\\nvalue = [0, 1]'),\n",
              " Text(286.9714285714286, 84.56, 'gini = 0.0\\nsamples = 6\\nvalue = [6, 0]'),\n",
              " Text(310.8857142857143, 108.72, 'gini = 0.0\\nsamples = 5\\nvalue = [0, 5]'),\n",
              " Text(239.14285714285714, 157.04, 'gini = 0.0\\nsamples = 3\\nvalue = [3, 0]')]"
            ]
          },
          "metadata": {
            "tags": []
          },
          "execution_count": 29
        },
        {
          "output_type": "display_data",
          "data": {
            "image/png": "[encoded data removed]",
            "text/plain": [
              "<Figure size 432x288 with 1 Axes>"
            ]
          },
          "metadata": {
            "tags": []
          }
        }
      ]
    },
    {
      "cell_type": "code",
      "metadata": {
        "id": "3fzUxgNIlM6L",
        "colab_type": "code",
        "outputId": "b8ce3fd5-dab4-4d58-9a3e-c095b260646d",
        "colab": {
          "base_uri": "https://localhost:8080/",
          "height": 119
        }
      },
      "source": [
        "prediction1 = knn.predict(tdf5)\n",
        "count = 0\n",
        "for i in prediction1:\n",
        "  if i==1:\n",
        "    count+=1\n",
        "print(\"KNN Accuracy:\", (count/len(tdf5))*100,\"%\")\n",
        "\n",
        "prediction2 = logreg.predict(tdf5)\n",
        "count = 0\n",
        "for i in prediction2:\n",
        "  if i==1:\n",
        "    count+=1\n",
        "print(\"Logistic Regression Accuracy:\", (count/len(tdf5))*100,\"%\")\n",
        "\n",
        "prediction3 = clf1.predict(tdf5)\n",
        "count = 0\n",
        "for i in prediction3:\n",
        "  if i==1:\n",
        "    count+=1\n",
        "print(\"SVM (Default) Accuracy:\", (count/len(tdf5))*100,\"%\")\n",
        "\n",
        "prediction4 = clf2.predict(tdf5)\n",
        "count = 0\n",
        "for i in prediction4:\n",
        "  if i==1:\n",
        "    count+=1\n",
        "print(\"SVM (Sigmoid) Accuracy:\", (count/len(tdf5))*100,\"%\")\n",
        "\n",
        "prediction5 = clf3.predict(tdf5)\n",
        "count = 0\n",
        "for i in prediction5:\n",
        "  if i==1:\n",
        "    count+=1\n",
        "print(\"SVM (Poly) Accuracy:\", (count/len(tdf5))*100,\"%\")\n",
        "\n",
        "prediction6 = treemodel.predict(tdf5)\n",
        "count = 0\n",
        "for i in prediction6:\n",
        "  if i==1:\n",
        "    count+=1\n",
        "print(\"Decision Tree Accuracy:\", (count/len(tdf5))*100,\"%\")"
      ],
      "execution_count": 0,
      "outputs": [
        {
          "output_type": "stream",
          "text": [
            "KNN Accuracy: 97.28915662650603 %\n",
            "Logistic Regression Accuracy: 100.0 %\n",
            "SVM (Default) Accuracy: 100.0 %\n",
            "SVM (Sigmoid) Accuracy: 100.0 %\n",
            "SVM (Poly) Accuracy: 99.3975903614458 %\n",
            "Decision Tree Accuracy: 99.3975903614458 %\n"
          ],
          "name": "stdout"
        }
      ]
    },
    {
      "cell_type": "code",
      "metadata": {
        "id": "PI3S7O9VXyhR",
        "colab_type": "code",
        "outputId": "206319b1-4636-4543-f7ef-b40d99c31fbb",
        "colab": {
          "base_uri": "https://localhost:8080/",
          "height": 639
        }
      },
      "source": [
        "k = 5\n",
        "knn = KNeighborsClassifier(n_neighbors=k)\n",
        "knn.fit(X_train6,y_train6)\n",
        "y_pred6 = knn.predict(X_test6)\n",
        "score = metrics.accuracy_score(y_test6,y_pred6)\n",
        "print(\"KNN Accuracy: \", score*100)\n",
        "\n",
        "logreg = LogisticRegression().fit(X_train6, y_train6)\n",
        "y_pred6 = logreg.predict(X_test6)\n",
        "print(\"Logistic Regression Accuracy: \", metrics.accuracy_score(y_test6, y_pred6)*100)\n",
        "\n",
        "clf1 = SVC(gamma='auto')\n",
        "clf1.fit(X_train6, y_train6)\n",
        "y_pred6 = clf1.predict(X_test6)\n",
        "print(\"SVM (Default) Accuracy: \", metrics.accuracy_score(y_pred6,y_test6)*100)\n",
        "\n",
        "clf2 = SVC(gamma='auto',kernel = 'sigmoid')\n",
        "clf2.fit(X_train6, y_train6)\n",
        "y_pred6 = clf2.predict(X_test6)\n",
        "print(\"SVM (Sigmoid) Accuracy: \", metrics.accuracy_score(y_pred6,y_test6)*100)\n",
        "\n",
        "clf3 = SVC(gamma='auto',kernel = 'poly')\n",
        "clf3.fit(X_train6, y_train6)\n",
        "y_pred6 = clf3.predict(X_test6)\n",
        "print(\"SVM (Poly) Accuracy: \", metrics.accuracy_score(y_pred6,y_test6)*100)\n",
        "\n",
        "t = tree.DecisionTreeClassifier()\n",
        "treemodel = t.fit(X_train6,y_train6)\n",
        "pred = treemodel.predict(X_test6)\n",
        "\n",
        "print(classification_report(y_test6,pred))\n",
        "tree.plot_tree(treemodel.fit(X_test6, y_test6))"
      ],
      "execution_count": 0,
      "outputs": [
        {
          "output_type": "stream",
          "text": [
            "KNN Accuracy:  99.66555183946488\n",
            "Logistic Regression Accuracy:  97.9933110367893\n",
            "SVM (Default) Accuracy:  89.63210702341136\n",
            "SVM (Sigmoid) Accuracy:  93.31103678929766\n",
            "SVM (Poly) Accuracy:  99.66555183946488\n",
            "              precision    recall  f1-score   support\n",
            "\n",
            "           0       0.93      0.84      0.88        31\n",
            "           1       0.98      0.99      0.99       268\n",
            "\n",
            "    accuracy                           0.98       299\n",
            "   macro avg       0.96      0.92      0.93       299\n",
            "weighted avg       0.98      0.98      0.98       299\n",
            "\n"
          ],
          "name": "stdout"
        },
        {
          "output_type": "execute_result",
          "data": {
            "text/plain": [
              "[Text(167.4, 190.26, 'X[1] <= 171500.0\\ngini = 0.186\\nsamples = 299\\nvalue = [31, 268]'),\n",
              " Text(83.7, 135.9, 'X[1] <= 161500.0\\ngini = 0.067\\nsamples = 29\\nvalue = [28, 1]'),\n",
              " Text(41.85, 81.53999999999999, 'gini = 0.0\\nsamples = 27\\nvalue = [27, 0]'),\n",
              " Text(125.55000000000001, 81.53999999999999, 'X[1] <= 166000.0\\ngini = 0.5\\nsamples = 2\\nvalue = [1, 1]'),\n",
              " Text(83.7, 27.180000000000007, 'gini = 0.0\\nsamples = 1\\nvalue = [0, 1]'),\n",
              " Text(167.4, 27.180000000000007, 'gini = 0.0\\nsamples = 1\\nvalue = [1, 0]'),\n",
              " Text(251.10000000000002, 135.9, 'X[2] <= -74000.0\\ngini = 0.022\\nsamples = 270\\nvalue = [3, 267]'),\n",
              " Text(209.25, 81.53999999999999, 'gini = 0.0\\nsamples = 267\\nvalue = [0, 267]'),\n",
              " Text(292.95, 81.53999999999999, 'gini = 0.0\\nsamples = 3\\nvalue = [3, 0]')]"
            ]
          },
          "metadata": {
            "tags": []
          },
          "execution_count": 31
        },
        {
          "output_type": "display_data",
          "data": {
            "image/png": "[encoded data removed]",
            "text/plain": [
              "<Figure size 432x288 with 1 Axes>"
            ]
          },
          "metadata": {
            "tags": []
          }
        }
      ]
    },
    {
      "cell_type": "code",
      "metadata": {
        "id": "A3txN-NFlcvF",
        "colab_type": "code",
        "outputId": "537013c2-2b21-4679-e431-20fe2d2d4224",
        "colab": {
          "base_uri": "https://localhost:8080/",
          "height": 119
        }
      },
      "source": [
        "prediction1 = knn.predict(tdf6)\n",
        "count = 0\n",
        "for i in prediction1:\n",
        "  if i==1:\n",
        "    count+=1\n",
        "print(\"KNN Accuracy:\", (count/len(tdf6))*100,\"%\")\n",
        "\n",
        "prediction2 = logreg.predict(tdf6)\n",
        "count = 0\n",
        "for i in prediction2:\n",
        "  if i==1:\n",
        "    count+=1\n",
        "print(\"Logistic Regression Accuracy:\", (count/len(tdf6))*100,\"%\")\n",
        "\n",
        "prediction3 = clf1.predict(tdf6)\n",
        "count = 0\n",
        "for i in prediction3:\n",
        "  if i==1:\n",
        "    count+=1\n",
        "print(\"SVM (Default) Accuracy:\", (count/len(tdf6))*100,\"%\")\n",
        "\n",
        "prediction4 = clf2.predict(tdf6)\n",
        "count = 0\n",
        "for i in prediction4:\n",
        "  if i==1:\n",
        "    count+=1\n",
        "print(\"SVM (Sigmoid) Accuracy:\", (count/len(tdf6))*100,\"%\")\n",
        "\n",
        "prediction5 = clf3.predict(tdf6)\n",
        "count = 0\n",
        "for i in prediction5:\n",
        "  if i==1:\n",
        "    count+=1\n",
        "print(\"SVM (Poly) Accuracy:\", (count/len(tdf6))*100,\"%\")\n",
        "\n",
        "prediction6 = treemodel.predict(tdf6)\n",
        "count = 0\n",
        "for i in prediction6:\n",
        "  if i==1:\n",
        "    count+=1\n",
        "print(\"Decision Tree Accuracy:\", (count/len(tdf6))*100,\"%\")"
      ],
      "execution_count": 0,
      "outputs": [
        {
          "output_type": "stream",
          "text": [
            "KNN Accuracy: 100.0 %\n",
            "Logistic Regression Accuracy: 100.0 %\n",
            "SVM (Default) Accuracy: 100.0 %\n",
            "SVM (Sigmoid) Accuracy: 100.0 %\n",
            "SVM (Poly) Accuracy: 100.0 %\n",
            "Decision Tree Accuracy: 100.0 %\n"
          ],
          "name": "stdout"
        }
      ]
    },
    {
      "cell_type": "code",
      "metadata": {
        "id": "zzlS9qfHYAzN",
        "colab_type": "code",
        "outputId": "42f9ca43-222b-4bce-9aa5-50ec3edade69",
        "colab": {
          "base_uri": "https://localhost:8080/",
          "height": 792
        }
      },
      "source": [
        "k = 5\n",
        "knn = KNeighborsClassifier(n_neighbors=k)\n",
        "knn.fit(X_train7,y_train7)\n",
        "y_pred7 = knn.predict(X_test7)\n",
        "score = metrics.accuracy_score(y_test7,y_pred7)\n",
        "print(\"KNN Accuracy: \", score*100)\n",
        "\n",
        "logreg = LogisticRegression().fit(X_train7, y_train7)\n",
        "y_pred7 = logreg.predict(X_test7)\n",
        "print(\"Logistic Regression Accuracy: \", metrics.accuracy_score(y_test7, y_pred7)*100)\n",
        "\n",
        "clf1 = SVC(gamma='auto')\n",
        "clf1.fit(X_train7, y_train7)\n",
        "y_pred7 = clf1.predict(X_test7)\n",
        "print(\"SVM (Default) Accuracy: \", metrics.accuracy_score(y_pred7,y_test7)*100)\n",
        "\n",
        "clf2 = SVC(gamma='auto',kernel = 'sigmoid')\n",
        "clf2.fit(X_train7, y_train7)\n",
        "y_pred7 = clf2.predict(X_test7)\n",
        "print(\"SVM (Sigmoid) Accuracy: \", metrics.accuracy_score(y_pred7,y_test7)*100)\n",
        "\n",
        "\"\"\"\n",
        "clf3 = SVC(gamma='auto',kernel = 'poly')\n",
        "clf3.fit(X_train7, y_train7)\n",
        "y_pred7 = clf3.predict(X_test7)\n",
        "print(\"SVM (Poly) Accuracy: \", metrics.accuracy_score(y_pred7,y_test7)*100)\n",
        "\"\"\"\n",
        "\n",
        "t = tree.DecisionTreeClassifier()\n",
        "treemodel = t.fit(X_train7,y_train7)\n",
        "pred = treemodel.predict(X_test7)\n",
        "\n",
        "print(classification_report(y_test7,pred))\n",
        "tree.plot_tree(treemodel.fit(X_test7, y_test7))"
      ],
      "execution_count": 0,
      "outputs": [
        {
          "output_type": "stream",
          "text": [
            "KNN Accuracy:  98.0\n",
            "Logistic Regression Accuracy:  89.33333333333333\n",
            "SVM (Default) Accuracy:  96.0\n",
            "SVM (Sigmoid) Accuracy:  89.33333333333333\n",
            "              precision    recall  f1-score   support\n",
            "\n",
            "           0       1.00      0.88      0.93        32\n",
            "           1       0.99      1.00      0.99       268\n",
            "\n",
            "    accuracy                           0.99       300\n",
            "   macro avg       0.99      0.94      0.96       300\n",
            "weighted avg       0.99      0.99      0.99       300\n",
            "\n"
          ],
          "name": "stdout"
        },
        {
          "output_type": "execute_result",
          "data": {
            "text/plain": [
              "[Text(182.61818181818182, 203.85, 'X[0] <= 94222.973\\ngini = 0.191\\nsamples = 300\\nvalue = [32, 268]'),\n",
              " Text(152.1818181818182, 176.67000000000002, 'gini = 0.0\\nsamples = 28\\nvalue = [28, 0]'),\n",
              " Text(213.05454545454546, 176.67000000000002, 'X[0] <= 94234.137\\ngini = 0.029\\nsamples = 272\\nvalue = [4, 268]'),\n",
              " Text(182.61818181818182, 149.49, 'X[0] <= 94233.93\\ngini = 0.063\\nsamples = 122\\nvalue = [4, 118]'),\n",
              " Text(152.1818181818182, 122.31, 'X[0] <= 94230.152\\ngini = 0.048\\nsamples = 121\\nvalue = [3, 118]'),\n",
              " Text(91.30909090909091, 95.13, 'X[0] <= 94225.523\\ngini = 0.019\\nsamples = 106\\nvalue = [1, 105]'),\n",
              " Text(60.872727272727275, 67.94999999999999, 'X[0] <= 94225.348\\ngini = 0.165\\nsamples = 11\\nvalue = [1, 10]'),\n",
              " Text(30.436363636363637, 40.77000000000001, 'gini = 0.0\\nsamples = 10\\nvalue = [0, 10]'),\n",
              " Text(91.30909090909091, 40.77000000000001, 'gini = 0.0\\nsamples = 1\\nvalue = [1, 0]'),\n",
              " Text(121.74545454545455, 67.94999999999999, 'gini = 0.0\\nsamples = 95\\nvalue = [0, 95]'),\n",
              " Text(213.05454545454546, 95.13, 'X[0] <= 94230.277\\ngini = 0.231\\nsamples = 15\\nvalue = [2, 13]'),\n",
              " Text(182.61818181818182, 67.94999999999999, 'gini = 0.0\\nsamples = 1\\nvalue = [1, 0]'),\n",
              " Text(243.4909090909091, 67.94999999999999, 'X[0] <= 94231.969\\ngini = 0.133\\nsamples = 14\\nvalue = [1, 13]'),\n",
              " Text(213.05454545454546, 40.77000000000001, 'gini = 0.0\\nsamples = 9\\nvalue = [0, 9]'),\n",
              " Text(273.92727272727274, 40.77000000000001, 'X[0] <= 94232.52\\ngini = 0.32\\nsamples = 5\\nvalue = [1, 4]'),\n",
              " Text(243.4909090909091, 13.590000000000003, 'gini = 0.0\\nsamples = 1\\nvalue = [1, 0]'),\n",
              " Text(304.3636363636364, 13.590000000000003, 'gini = 0.0\\nsamples = 4\\nvalue = [0, 4]'),\n",
              " Text(213.05454545454546, 122.31, 'gini = 0.0\\nsamples = 1\\nvalue = [1, 0]'),\n",
              " Text(243.4909090909091, 149.49, 'gini = 0.0\\nsamples = 150\\nvalue = [0, 150]')]"
            ]
          },
          "metadata": {
            "tags": []
          },
          "execution_count": 33
        },
        {
          "output_type": "display_data",
          "data": {
            "image/png": "[encoded data removed]",
            "text/plain": [
              "<Figure size 432x288 with 1 Axes>"
            ]
          },
          "metadata": {
            "tags": []
          }
        }
      ]
    },
    {
      "cell_type": "code",
      "metadata": {
        "id": "bkvmzTClpO9t",
        "colab_type": "code",
        "outputId": "0fafbfd8-53bd-4686-8541-d8c88db95c94",
        "colab": {
          "base_uri": "https://localhost:8080/",
          "height": 102
        }
      },
      "source": [
        "prediction1 = knn.predict(tdf7)\n",
        "count = 0\n",
        "for i in prediction1:\n",
        "  if i==1:\n",
        "    count+=1\n",
        "print(\"KNN Accuracy:\", (count/len(tdf7))*100,\"%\")\n",
        "\n",
        "prediction2 = logreg.predict(tdf7)\n",
        "count = 0\n",
        "for i in prediction2:\n",
        "  if i==1:\n",
        "    count+=1\n",
        "print(\"Logistic Regression Accuracy:\", (count/len(tdf7))*100,\"%\")\n",
        "\n",
        "prediction3 = clf1.predict(tdf7)\n",
        "count = 0\n",
        "for i in prediction3:\n",
        "  if i==1:\n",
        "    count+=1\n",
        "print(\"SVM (Default) Accuracy:\", (count/len(tdf7))*100,\"%\")\n",
        "\n",
        "prediction4 = clf2.predict(tdf7)\n",
        "count = 0\n",
        "for i in prediction4:\n",
        "  if i==1:\n",
        "    count+=1\n",
        "print(\"SVM (Sigmoid) Accuracy:\", (count/len(tdf7))*100,\"%\")\n",
        "\n",
        "\"\"\"\n",
        "prediction5 = clf3.predict(tdf7)\n",
        "count = 0\n",
        "for i in prediction5:\n",
        "  if i==1:\n",
        "    count+=1\n",
        "print(\"SVM (Poly) Accuracy:\", (count/len(tdf7))*100,\"%\")\n",
        "\"\"\"\n",
        "\n",
        "prediction6 = treemodel.predict(tdf7)\n",
        "count = 0\n",
        "for i in prediction6:\n",
        "  if i==1:\n",
        "    count+=1\n",
        "print(\"Decision Tree Accuracy:\", (count/len(tdf7))*100,\"%\")"
      ],
      "execution_count": 0,
      "outputs": [
        {
          "output_type": "stream",
          "text": [
            "KNN Accuracy: 100.0 %\n",
            "Logistic Regression Accuracy: 100.0 %\n",
            "SVM (Default) Accuracy: 100.0 %\n",
            "SVM (Sigmoid) Accuracy: 100.0 %\n",
            "Decision Tree Accuracy: 99.69879518072288 %\n"
          ],
          "name": "stdout"
        }
      ]
    },
    {
      "cell_type": "code",
      "metadata": {
        "id": "2ieaCqTMYH0l",
        "colab_type": "code",
        "outputId": "8ac31f0d-2126-4cec-e08d-d1942327018c",
        "colab": {
          "base_uri": "https://localhost:8080/",
          "height": 639
        }
      },
      "source": [
        "k = 5\n",
        "knn = KNeighborsClassifier(n_neighbors=k)\n",
        "knn.fit(X_train8,y_train8)\n",
        "y_pred8 = knn.predict(X_test8)\n",
        "score = metrics.accuracy_score(y_test8,y_pred8)\n",
        "print(\"KNN Accuracy: \", score*100)\n",
        "\n",
        "logreg = LogisticRegression().fit(X_train8, y_train8)\n",
        "y_pred8 = logreg.predict(X_test8)\n",
        "print(\"Logistic Regression Accuracy: \", metrics.accuracy_score(y_test8, y_pred8)*100)\n",
        "\n",
        "clf1 = SVC(gamma='auto')\n",
        "clf1.fit(X_train8, y_train8)\n",
        "y_pred8 = clf1.predict(X_test8)\n",
        "print(\"SVM (Default) Accuracy: \", metrics.accuracy_score(y_pred8,y_test8)*100)\n",
        "\n",
        "clf2 = SVC(gamma='auto',kernel = 'sigmoid')\n",
        "clf2.fit(X_train8, y_train8)\n",
        "y_pred8 = clf2.predict(X_test8)\n",
        "print(\"SVM (Sigmoid) Accuracy: \", metrics.accuracy_score(y_pred8,y_test8)*100)\n",
        "\n",
        "clf3 = SVC(gamma='auto',kernel = 'poly')\n",
        "clf3.fit(X_train8, y_train8)\n",
        "y_pred8 = clf3.predict(X_test8)\n",
        "print(\"SVM (Poly) Accuracy: \", metrics.accuracy_score(y_pred8,y_test8)*100)\n",
        "\n",
        "t = tree.DecisionTreeClassifier()\n",
        "treemodel = t.fit(X_train8,y_train8)\n",
        "pred = treemodel.predict(X_test8)\n",
        "\n",
        "print(classification_report(y_test8,pred))\n",
        "tree.plot_tree(treemodel.fit(X_test8, y_test8))"
      ],
      "execution_count": 0,
      "outputs": [
        {
          "output_type": "stream",
          "text": [
            "KNN Accuracy:  97.33333333333334\n",
            "Logistic Regression Accuracy:  89.33333333333333\n",
            "SVM (Default) Accuracy:  89.33333333333333\n",
            "SVM (Sigmoid) Accuracy:  89.33333333333333\n",
            "SVM (Poly) Accuracy:  90.66666666666666\n",
            "              precision    recall  f1-score   support\n",
            "\n",
            "           0       1.00      0.91      0.95        32\n",
            "           1       0.99      1.00      0.99       268\n",
            "\n",
            "    accuracy                           0.99       300\n",
            "   macro avg       0.99      0.95      0.97       300\n",
            "weighted avg       0.99      0.99      0.99       300\n",
            "\n"
          ],
          "name": "stdout"
        },
        {
          "output_type": "execute_result",
          "data": {
            "text/plain": [
              "[Text(167.4, 195.696, 'X[0] <= 42.965\\ngini = 0.191\\nsamples = 300\\nvalue = [32, 268]'),\n",
              " Text(111.60000000000001, 152.208, 'X[0] <= 42.925\\ngini = 0.063\\nsamples = 277\\nvalue = [9, 268]'),\n",
              " Text(55.800000000000004, 108.72, 'gini = 0.0\\nsamples = 6\\nvalue = [6, 0]'),\n",
              " Text(167.4, 108.72, 'X[0] <= 42.945\\ngini = 0.022\\nsamples = 271\\nvalue = [3, 268]'),\n",
              " Text(111.60000000000001, 65.232, 'gini = 0.053\\nsamples = 73\\nvalue = [2, 71]'),\n",
              " Text(223.20000000000002, 65.232, 'X[0] <= 42.955\\ngini = 0.01\\nsamples = 198\\nvalue = [1, 197]'),\n",
              " Text(167.4, 21.744, 'gini = 0.013\\nsamples = 149\\nvalue = [1, 148]'),\n",
              " Text(279.0, 21.744, 'gini = 0.0\\nsamples = 49\\nvalue = [0, 49]'),\n",
              " Text(223.20000000000002, 152.208, 'gini = 0.0\\nsamples = 23\\nvalue = [23, 0]')]"
            ]
          },
          "metadata": {
            "tags": []
          },
          "execution_count": 35
        },
        {
          "output_type": "display_data",
          "data": {
            "image/png": "[encoded data removed]",
            "text/plain": [
              "<Figure size 432x288 with 1 Axes>"
            ]
          },
          "metadata": {
            "tags": []
          }
        }
      ]
    },
    {
      "cell_type": "code",
      "metadata": {
        "id": "AfHLqth2pfXe",
        "colab_type": "code",
        "outputId": "967cfe31-b34a-4206-8732-b959dd653d37",
        "colab": {
          "base_uri": "https://localhost:8080/",
          "height": 119
        }
      },
      "source": [
        "prediction1 = knn.predict(tdf8)\n",
        "count = 0\n",
        "for i in prediction1:\n",
        "  if i==1:\n",
        "    count+=1\n",
        "print(\"KNN Accuracy:\", (count/len(tdf8))*100,\"%\")\n",
        "\n",
        "prediction2 = logreg.predict(tdf8)\n",
        "count = 0\n",
        "for i in prediction2:\n",
        "  if i==1:\n",
        "    count+=1\n",
        "print(\"Logistic Regression Accuracy:\", (count/len(tdf8))*100,\"%\")\n",
        "\n",
        "prediction3 = clf1.predict(tdf8)\n",
        "count = 0\n",
        "for i in prediction3:\n",
        "  if i==1:\n",
        "    count+=1\n",
        "print(\"SVM (Default) Accuracy:\", (count/len(tdf8))*100,\"%\")\n",
        "\n",
        "prediction4 = clf2.predict(tdf8)\n",
        "count = 0\n",
        "for i in prediction4:\n",
        "  if i==1:\n",
        "    count+=1\n",
        "print(\"SVM (Sigmoid) Accuracy:\", (count/len(tdf8))*100,\"%\")\n",
        "\n",
        "prediction5 = clf3.predict(tdf8)\n",
        "count = 0\n",
        "for i in prediction5:\n",
        "  if i==1:\n",
        "    count+=1\n",
        "print(\"SVM (Poly) Accuracy:\", (count/len(tdf8))*100,\"%\")\n",
        "\n",
        "prediction6 = treemodel.predict(tdf8)\n",
        "count = 0\n",
        "for i in prediction6:\n",
        "  if i==1:\n",
        "    count+=1\n",
        "print(\"Decision Tree Accuracy:\", (count/len(tdf8))*100,\"%\")"
      ],
      "execution_count": 0,
      "outputs": [
        {
          "output_type": "stream",
          "text": [
            "KNN Accuracy: 100.0 %\n",
            "Logistic Regression Accuracy: 100.0 %\n",
            "SVM (Default) Accuracy: 100.0 %\n",
            "SVM (Sigmoid) Accuracy: 100.0 %\n",
            "SVM (Poly) Accuracy: 100.0 %\n",
            "Decision Tree Accuracy: 100.0 %\n"
          ],
          "name": "stdout"
        }
      ]
    },
    {
      "cell_type": "code",
      "metadata": {
        "id": "VE8hNTUMZPN4",
        "colab_type": "code",
        "outputId": "a89d1dff-a4e7-42ea-c296-3813f4b102d6",
        "colab": {
          "base_uri": "https://localhost:8080/",
          "height": 537
        }
      },
      "source": [
        "k = 5\n",
        "knn = KNeighborsClassifier(n_neighbors=k)\n",
        "knn.fit(X_train9,y_train9)\n",
        "y_pred9 = knn.predict(X_test9)\n",
        "score = metrics.accuracy_score(y_test9,y_pred9)\n",
        "print(\"KNN Accuracy: \", score*100)\n",
        "\n",
        "logreg = LogisticRegression().fit(X_train9, y_train9)\n",
        "y_pred9 = logreg.predict(X_test9)\n",
        "print(\"Logistic Regression Accuracy: \", metrics.accuracy_score(y_test9, y_pred9)*100)\n",
        "\n",
        "clf1 = SVC(gamma='auto')\n",
        "clf1.fit(X_train9, y_train9)\n",
        "y_pred9 = clf1.predict(X_test9)\n",
        "print(\"SVM (Default) Accuracy: \", metrics.accuracy_score(y_pred9,y_test9)*100)\n",
        "\n",
        "clf2 = SVC(gamma='auto',kernel = 'sigmoid')\n",
        "clf2.fit(X_train9, y_train9)\n",
        "y_pred9 = clf2.predict(X_test9)\n",
        "print(\"SVM (Sigmoid) Accuracy: \", metrics.accuracy_score(y_pred9,y_test9)*100)\n",
        "\n",
        "clf3 = SVC(gamma='auto',kernel = 'poly')\n",
        "clf3.fit(X_train9, y_train9)\n",
        "y_pred9 = clf3.predict(X_test9)\n",
        "print(\"SVM (Poly) Accuracy: \", metrics.accuracy_score(y_pred9,y_test9)*100)\n",
        "\n",
        "t = tree.DecisionTreeClassifier()\n",
        "treemodel = t.fit(X_train9,y_train9)\n",
        "pred = treemodel.predict(X_test9)\n",
        "\n",
        "print(classification_report(y_test9,pred))\n",
        "tree.plot_tree(treemodel.fit(X_test9, y_test9))"
      ],
      "execution_count": 0,
      "outputs": [
        {
          "output_type": "stream",
          "text": [
            "KNN Accuracy:  99.27007299270073\n",
            "Logistic Regression Accuracy:  99.27007299270073\n",
            "SVM (Default) Accuracy:  100.0\n",
            "SVM (Sigmoid) Accuracy:  87.95620437956204\n",
            "SVM (Poly) Accuracy:  93.43065693430657\n",
            "              precision    recall  f1-score   support\n",
            "\n",
            "           0       1.00      0.89      0.94        27\n",
            "           1       0.99      1.00      0.99       247\n",
            "\n",
            "    accuracy                           0.99       274\n",
            "   macro avg       0.99      0.94      0.97       274\n",
            "weighted avg       0.99      0.99      0.99       274\n",
            "\n"
          ],
          "name": "stdout"
        },
        {
          "output_type": "execute_result",
          "data": {
            "text/plain": [
              "[Text(167.4, 163.07999999999998, 'X[3] <= -0.856\\ngini = 0.178\\nsamples = 274\\nvalue = [27, 247]'),\n",
              " Text(83.7, 54.360000000000014, 'gini = 0.0\\nsamples = 247\\nvalue = [0, 247]'),\n",
              " Text(251.10000000000002, 54.360000000000014, 'gini = 0.0\\nsamples = 27\\nvalue = [27, 0]')]"
            ]
          },
          "metadata": {
            "tags": []
          },
          "execution_count": 37
        },
        {
          "output_type": "display_data",
          "data": {
            "image/png": "[encoded data removed]",
            "text/plain": [
              "<Figure size 432x288 with 1 Axes>"
            ]
          },
          "metadata": {
            "tags": []
          }
        }
      ]
    },
    {
      "cell_type": "code",
      "metadata": {
        "id": "GNF70YaSaabu",
        "colab_type": "code",
        "outputId": "a47c9eaf-45c8-4017-c0bf-c9394a5cfd37",
        "colab": {
          "base_uri": "https://localhost:8080/",
          "height": 537
        }
      },
      "source": [
        "k = 5\n",
        "knn = KNeighborsClassifier(n_neighbors=k)\n",
        "knn.fit(X_train10,y_train10)\n",
        "y_pred10 = knn.predict(X_test10)\n",
        "score = metrics.accuracy_score(y_test10,y_pred10)\n",
        "print(\"KNN Accuracy: \", score*100)\n",
        "\n",
        "logreg = LogisticRegression().fit(X_train10, y_train10)\n",
        "y_pred10 = logreg.predict(X_test10)\n",
        "print(\"Logistic Regression Accuracy: \", metrics.accuracy_score(y_test10, y_pred10)*100)\n",
        "\n",
        "clf1 = SVC(gamma='auto')\n",
        "clf1.fit(X_train10, y_train10)\n",
        "y_pred10 = clf1.predict(X_test10)\n",
        "print(\"SVM (Default) Accuracy: \", metrics.accuracy_score(y_pred10,y_test10)*100)\n",
        "\n",
        "clf2 = SVC(gamma='auto',kernel = 'sigmoid')\n",
        "clf2.fit(X_train10, y_train10)\n",
        "y_pred10 = clf2.predict(X_test10)\n",
        "print(\"SVM (Sigmoid) Accuracy: \", metrics.accuracy_score(y_pred10,y_test10)*100)\n",
        "\n",
        "clf3 = SVC(gamma='auto',kernel = 'poly')\n",
        "clf3.fit(X_train10, y_train10)\n",
        "y_pred10 = clf3.predict(X_test10)\n",
        "print(\"SVM (Poly) Accuracy: \", metrics.accuracy_score(y_pred10,y_test10)*100)\n",
        "\n",
        "t = tree.DecisionTreeClassifier()\n",
        "treemodel = t.fit(X_train10,y_train10)\n",
        "pred = treemodel.predict(X_test10)\n",
        "\n",
        "print(classification_report(y_test10,pred))\n",
        "tree.plot_tree(treemodel.fit(X_test10, y_test10))"
      ],
      "execution_count": 0,
      "outputs": [
        {
          "output_type": "stream",
          "text": [
            "KNN Accuracy:  100.0\n",
            "Logistic Regression Accuracy:  98.90510948905109\n",
            "SVM (Default) Accuracy:  99.63503649635037\n",
            "SVM (Sigmoid) Accuracy:  88.6861313868613\n",
            "SVM (Poly) Accuracy:  98.90510948905109\n",
            "              precision    recall  f1-score   support\n",
            "\n",
            "           0       1.00      0.89      0.94        27\n",
            "           1       0.99      1.00      0.99       247\n",
            "\n",
            "    accuracy                           0.99       274\n",
            "   macro avg       0.99      0.94      0.97       274\n",
            "weighted avg       0.99      0.99      0.99       274\n",
            "\n"
          ],
          "name": "stdout"
        },
        {
          "output_type": "execute_result",
          "data": {
            "text/plain": [
              "[Text(167.4, 163.07999999999998, 'X[6] <= -0.856\\ngini = 0.178\\nsamples = 274\\nvalue = [27, 247]'),\n",
              " Text(83.7, 54.360000000000014, 'gini = 0.0\\nsamples = 247\\nvalue = [0, 247]'),\n",
              " Text(251.10000000000002, 54.360000000000014, 'gini = 0.0\\nsamples = 27\\nvalue = [27, 0]')]"
            ]
          },
          "metadata": {
            "tags": []
          },
          "execution_count": 38
        },
        {
          "output_type": "display_data",
          "data": {
            "image/png": "[encoded data removed]",
            "text/plain": [
              "<Figure size 432x288 with 1 Axes>"
            ]
          },
          "metadata": {
            "tags": []
          }
        }
      ]
    },
    {
      "cell_type": "code",
      "metadata": {
        "id": "TrZaM98haxaG",
        "colab_type": "code",
        "outputId": "3fd09a1a-f951-4bc7-df63-bb5a5affb870",
        "colab": {
          "base_uri": "https://localhost:8080/",
          "height": 537
        }
      },
      "source": [
        "k = 5\n",
        "knn = KNeighborsClassifier(n_neighbors=k)\n",
        "knn.fit(X_train11,y_train11)\n",
        "y_pred11= knn.predict(X_test11)\n",
        "score = metrics.accuracy_score(y_test11,y_pred11)\n",
        "print(\"KNN Accuracy: \", score*100)\n",
        "\n",
        "logreg = LogisticRegression().fit(X_train11, y_train11)\n",
        "y_pred11 = logreg.predict(X_test11)\n",
        "print(\"Logistic Regression Accuracy: \", metrics.accuracy_score(y_test11, y_pred11)*100)\n",
        "\n",
        "clf1 = SVC(gamma='auto')\n",
        "clf1.fit(X_train11, y_train11)\n",
        "y_pred11 = clf1.predict(X_test11)\n",
        "print(\"SVM (Default) Accuracy: \", metrics.accuracy_score(y_pred11,y_test11)*100)\n",
        "\n",
        "clf2 = SVC(gamma='auto',kernel = 'sigmoid')\n",
        "clf2.fit(X_train11, y_train11)\n",
        "y_pred11 = clf2.predict(X_test11)\n",
        "print(\"SVM (Sigmoid) Accuracy: \", metrics.accuracy_score(y_pred11,y_test11)*100)\n",
        "\n",
        "clf3 = SVC(gamma='auto',kernel = 'poly')\n",
        "clf3.fit(X_train11, y_train11)\n",
        "y_pred11 = clf3.predict(X_test11)\n",
        "print(\"SVM (Poly) Accuracy: \", metrics.accuracy_score(y_pred11,y_test11)*100)\n",
        "\n",
        "t = tree.DecisionTreeClassifier()\n",
        "treemodel = t.fit(X_train11,y_train11)\n",
        "pred = treemodel.predict(X_test11)\n",
        "\n",
        "print(classification_report(y_test11,pred))\n",
        "tree.plot_tree(treemodel.fit(X_test11, y_test11))"
      ],
      "execution_count": 0,
      "outputs": [
        {
          "output_type": "stream",
          "text": [
            "KNN Accuracy:  98.17518248175182\n",
            "Logistic Regression Accuracy:  98.54014598540147\n",
            "SVM (Default) Accuracy:  98.54014598540147\n",
            "SVM (Sigmoid) Accuracy:  90.14598540145985\n",
            "SVM (Poly) Accuracy:  100.0\n",
            "              precision    recall  f1-score   support\n",
            "\n",
            "           0       1.00      1.00      1.00        27\n",
            "           1       1.00      1.00      1.00       247\n",
            "\n",
            "    accuracy                           1.00       274\n",
            "   macro avg       1.00      1.00      1.00       274\n",
            "weighted avg       1.00      1.00      1.00       274\n",
            "\n"
          ],
          "name": "stdout"
        },
        {
          "output_type": "execute_result",
          "data": {
            "text/plain": [
              "[Text(167.4, 163.07999999999998, 'X[5] <= 1.84\\ngini = 0.178\\nsamples = 274\\nvalue = [27, 247]'),\n",
              " Text(83.7, 54.360000000000014, 'gini = 0.0\\nsamples = 27\\nvalue = [27, 0]'),\n",
              " Text(251.10000000000002, 54.360000000000014, 'gini = 0.0\\nsamples = 247\\nvalue = [0, 247]')]"
            ]
          },
          "metadata": {
            "tags": []
          },
          "execution_count": 39
        },
        {
          "output_type": "display_data",
          "data": {
            "image/png": "[encoded data removed]",
            "text/plain": [
              "<Figure size 432x288 with 1 Axes>"
            ]
          },
          "metadata": {
            "tags": []
          }
        }
      ]
    },
    {
      "cell_type": "code",
      "metadata": {
        "id": "teRVobPqqChm",
        "colab_type": "code",
        "outputId": "ad801ff4-cae7-4686-e4d1-132344b11294",
        "colab": {
          "base_uri": "https://localhost:8080/",
          "height": 119
        }
      },
      "source": [
        "prediction1 = knn.predict(tdf11)\n",
        "count = 0\n",
        "for i in prediction1:\n",
        "  if i==1:\n",
        "    count+=1\n",
        "print(\"KNN Accuracy:\", (count/len(tdf11))*100,\"%\")\n",
        "\n",
        "prediction2 = logreg.predict(tdf11)\n",
        "count = 0\n",
        "for i in prediction2:\n",
        "  if i==1:\n",
        "    count+=1\n",
        "print(\"Logistic Regression Accuracy:\", (count/len(tdf11))*100,\"%\")\n",
        "\n",
        "prediction3 = clf1.predict(tdf11)\n",
        "count = 0\n",
        "for i in prediction3:\n",
        "  if i==1:\n",
        "    count+=1\n",
        "print(\"SVM (Default) Accuracy:\", (count/len(tdf11))*100,\"%\")\n",
        "\n",
        "prediction4 = clf2.predict(tdf11)\n",
        "count = 0\n",
        "for i in prediction4:\n",
        "  if i==1:\n",
        "    count+=1\n",
        "print(\"SVM (Sigmoid) Accuracy:\", (count/len(tdf11))*100,\"%\")\n",
        "\n",
        "prediction5 = clf3.predict(tdf11)\n",
        "count = 0\n",
        "for i in prediction5:\n",
        "  if i==1:\n",
        "    count+=1\n",
        "print(\"SVM (Poly) Accuracy:\", (count/len(tdf11))*100,\"%\")\n",
        "\n",
        "prediction6 = treemodel.predict(tdf11)\n",
        "count = 0\n",
        "for i in prediction6:\n",
        "  if i==1:\n",
        "    count+=1\n",
        "print(\"Decision Tree Accuracy:\", (count/len(tdf11))*100,\"%\")"
      ],
      "execution_count": 0,
      "outputs": [
        {
          "output_type": "stream",
          "text": [
            "KNN Accuracy: 100.0 %\n",
            "Logistic Regression Accuracy: 100.0 %\n",
            "SVM (Default) Accuracy: 100.0 %\n",
            "SVM (Sigmoid) Accuracy: 100.0 %\n",
            "SVM (Poly) Accuracy: 100.0 %\n",
            "Decision Tree Accuracy: 100.0 %\n"
          ],
          "name": "stdout"
        }
      ]
    },
    {
      "cell_type": "code",
      "metadata": {
        "id": "Wv1tXisUbJqn",
        "colab_type": "code",
        "outputId": "47223e26-d11f-45c0-deb8-49624f45db7b",
        "colab": {
          "base_uri": "https://localhost:8080/",
          "height": 537
        }
      },
      "source": [
        "k = 5\n",
        "knn = KNeighborsClassifier(n_neighbors=k)\n",
        "knn.fit(X_train12,y_train12)\n",
        "y_pred12= knn.predict(X_test12)\n",
        "score = metrics.accuracy_score(y_test12,y_pred12)\n",
        "print(\"KNN Accuracy: \", score*100)\n",
        "\n",
        "logreg = LogisticRegression().fit(X_train12, y_train12)\n",
        "y_pred12 = logreg.predict(X_test12)\n",
        "print(\"Logistic Regression Accuracy: \", metrics.accuracy_score(y_test12, y_pred12)*100)\n",
        "\n",
        "clf1 = SVC(gamma='auto')\n",
        "clf1.fit(X_train12, y_train12)\n",
        "y_pred12 = clf1.predict(X_test12)\n",
        "print(\"SVM (Default) Accuracy: \", metrics.accuracy_score(y_pred12,y_test12)*100)\n",
        "\n",
        "clf2 = SVC(gamma='auto',kernel = 'sigmoid')\n",
        "clf2.fit(X_train12, y_train12)\n",
        "y_pred12 = clf2.predict(X_test12)\n",
        "print(\"SVM (Sigmoid) Accuracy: \", metrics.accuracy_score(y_pred12,y_test12)*100)\n",
        "\n",
        "clf3 = SVC(gamma='auto',kernel = 'poly')\n",
        "clf3.fit(X_train12, y_train12)\n",
        "y_pred12 = clf3.predict(X_test12)\n",
        "print(\"SVM (Poly) Accuracy: \", metrics.accuracy_score(y_pred12,y_test12)*100)\n",
        "\n",
        "t = tree.DecisionTreeClassifier()\n",
        "treemodel = t.fit(X_train12,y_train12)\n",
        "pred = treemodel.predict(X_test12)\n",
        "\n",
        "print(classification_report(y_test12,pred))\n",
        "tree.plot_tree(treemodel.fit(X_test12, y_test12))"
      ],
      "execution_count": 0,
      "outputs": [
        {
          "output_type": "stream",
          "text": [
            "KNN Accuracy:  100.0\n",
            "Logistic Regression Accuracy:  100.0\n",
            "SVM (Default) Accuracy:  100.0\n",
            "SVM (Sigmoid) Accuracy:  90.14598540145985\n",
            "SVM (Poly) Accuracy:  100.0\n",
            "              precision    recall  f1-score   support\n",
            "\n",
            "           0       1.00      1.00      1.00        27\n",
            "           1       1.00      1.00      1.00       247\n",
            "\n",
            "    accuracy                           1.00       274\n",
            "   macro avg       1.00      1.00      1.00       274\n",
            "weighted avg       1.00      1.00      1.00       274\n",
            "\n"
          ],
          "name": "stdout"
        },
        {
          "output_type": "execute_result",
          "data": {
            "text/plain": [
              "[Text(167.4, 163.07999999999998, 'X[1] <= 0.633\\ngini = 0.178\\nsamples = 274\\nvalue = [27, 247]'),\n",
              " Text(83.7, 54.360000000000014, 'gini = 0.0\\nsamples = 247\\nvalue = [0, 247]'),\n",
              " Text(251.10000000000002, 54.360000000000014, 'gini = 0.0\\nsamples = 27\\nvalue = [27, 0]')]"
            ]
          },
          "metadata": {
            "tags": []
          },
          "execution_count": 41
        },
        {
          "output_type": "display_data",
          "data": {
            "image/png": "[encoded data removed]",
            "text/plain": [
              "<Figure size 432x288 with 1 Axes>"
            ]
          },
          "metadata": {
            "tags": []
          }
        }
      ]
    },
    {
      "cell_type": "code",
      "metadata": {
        "id": "hQe0gCsYqQIt",
        "colab_type": "code",
        "outputId": "f6a04d5e-69e8-4a98-e883-c3ed24d4ff74",
        "colab": {
          "base_uri": "https://localhost:8080/",
          "height": 119
        }
      },
      "source": [
        "prediction1 = knn.predict(tdf12)\n",
        "count = 0\n",
        "for i in prediction1:\n",
        "  if i==1:\n",
        "    count+=1\n",
        "print(\"KNN Accuracy:\", (count/len(tdf12))*100,\"%\")\n",
        "\n",
        "prediction2 = logreg.predict(tdf12)\n",
        "count = 0\n",
        "for i in prediction2:\n",
        "  if i==1:\n",
        "    count+=1\n",
        "print(\"Logistic Regression Accuracy:\", (count/len(tdf12))*100,\"%\")\n",
        "\n",
        "prediction3 = clf1.predict(tdf12)\n",
        "count = 0\n",
        "for i in prediction3:\n",
        "  if i==1:\n",
        "    count+=1\n",
        "print(\"SVM (Default) Accuracy:\", (count/len(tdf12))*100,\"%\")\n",
        "\n",
        "prediction4 = clf2.predict(tdf12)\n",
        "count = 0\n",
        "for i in prediction4:\n",
        "  if i==1:\n",
        "    count+=1\n",
        "print(\"SVM (Sigmoid) Accuracy:\", (count/len(tdf12))*100,\"%\")\n",
        "\n",
        "prediction5 = clf3.predict(tdf12)\n",
        "count = 0\n",
        "for i in prediction5:\n",
        "  if i==1:\n",
        "    count+=1\n",
        "print(\"SVM (Poly) Accuracy:\", (count/len(tdf12))*100,\"%\")\n",
        "\n",
        "prediction6 = treemodel.predict(tdf12)\n",
        "count = 0\n",
        "for i in prediction6:\n",
        "  if i==1:\n",
        "    count+=1\n",
        "print(\"Decision Tree Accuracy:\", (count/len(tdf12))*100,\"%\")"
      ],
      "execution_count": 0,
      "outputs": [
        {
          "output_type": "stream",
          "text": [
            "KNN Accuracy: 100.0 %\n",
            "Logistic Regression Accuracy: 100.0 %\n",
            "SVM (Default) Accuracy: 100.0 %\n",
            "SVM (Sigmoid) Accuracy: 100.0 %\n",
            "SVM (Poly) Accuracy: 100.0 %\n",
            "Decision Tree Accuracy: 100.0 %\n"
          ],
          "name": "stdout"
        }
      ]
    },
    {
      "cell_type": "code",
      "metadata": {
        "id": "GtPJXYXcbqXS",
        "colab_type": "code",
        "outputId": "97053f0f-7b7e-459d-9d66-17a215a4a781",
        "colab": {
          "base_uri": "https://localhost:8080/",
          "height": 537
        }
      },
      "source": [
        "k = 5\n",
        "knn = KNeighborsClassifier(n_neighbors=k)\n",
        "knn.fit(X_train13,y_train13)\n",
        "y_pred13 = knn.predict(X_test13)\n",
        "score = metrics.accuracy_score(y_test13,y_pred13)\n",
        "print(\"KNN Accuracy: \", score*100)\n",
        "\n",
        "logreg = LogisticRegression().fit(X_train13, y_train13)\n",
        "y_pred13 = logreg.predict(X_test13)\n",
        "print(\"Logistic Regression Accuracy: \", metrics.accuracy_score(y_test13, y_pred13)*100)\n",
        "\n",
        "clf1 = SVC(gamma='auto')\n",
        "clf1.fit(X_train13, y_train13)\n",
        "y_pred13 = clf1.predict(X_test13)\n",
        "print(\"SVM (Default) Accuracy: \", metrics.accuracy_score(y_pred13,y_test13)*100)\n",
        "\n",
        "clf2 = SVC(gamma='auto',kernel = 'sigmoid')\n",
        "clf2.fit(X_train13, y_train13)\n",
        "y_pred13 = clf2.predict(X_test13)\n",
        "print(\"SVM (Sigmoid) Accuracy: \", metrics.accuracy_score(y_pred13,y_test13)*100)\n",
        "\n",
        "clf3 = SVC(gamma='auto',kernel = 'poly')\n",
        "clf3.fit(X_train13, y_train13)\n",
        "y_pred13 = clf3.predict(X_test13)\n",
        "print(\"SVM (Poly) Accuracy: \", metrics.accuracy_score(y_pred13,y_test13)*100)\n",
        "\n",
        "t = tree.DecisionTreeClassifier()\n",
        "treemodel = t.fit(X_train13,y_train13)\n",
        "pred = treemodel.predict(X_test13)\n",
        "\n",
        "print(classification_report(y_test13,pred))\n",
        "tree.plot_tree(treemodel.fit(X_test13, y_test13))"
      ],
      "execution_count": 0,
      "outputs": [
        {
          "output_type": "stream",
          "text": [
            "KNN Accuracy:  100.0\n",
            "Logistic Regression Accuracy:  100.0\n",
            "SVM (Default) Accuracy:  100.0\n",
            "SVM (Sigmoid) Accuracy:  89.69072164948454\n",
            "SVM (Poly) Accuracy:  100.0\n",
            "              precision    recall  f1-score   support\n",
            "\n",
            "           0       1.00      1.00      1.00        30\n",
            "           1       1.00      1.00      1.00       261\n",
            "\n",
            "    accuracy                           1.00       291\n",
            "   macro avg       1.00      1.00      1.00       291\n",
            "weighted avg       1.00      1.00      1.00       291\n",
            "\n"
          ],
          "name": "stdout"
        },
        {
          "output_type": "execute_result",
          "data": {
            "text/plain": [
              "[Text(167.4, 163.07999999999998, 'X[1] <= -3.744\\ngini = 0.185\\nsamples = 291\\nvalue = [30, 261]'),\n",
              " Text(83.7, 54.360000000000014, 'gini = 0.0\\nsamples = 30\\nvalue = [30, 0]'),\n",
              " Text(251.10000000000002, 54.360000000000014, 'gini = 0.0\\nsamples = 261\\nvalue = [0, 261]')]"
            ]
          },
          "metadata": {
            "tags": []
          },
          "execution_count": 43
        },
        {
          "output_type": "display_data",
          "data": {
            "image/png": "[encoded data removed]",
            "text/plain": [
              "<Figure size 432x288 with 1 Axes>"
            ]
          },
          "metadata": {
            "tags": []
          }
        }
      ]
    },
    {
      "cell_type": "code",
      "metadata": {
        "id": "8hNtAJNOqg5O",
        "colab_type": "code",
        "outputId": "d18c526a-81b0-4892-f117-2e2dde0c31d0",
        "colab": {
          "base_uri": "https://localhost:8080/",
          "height": 119
        }
      },
      "source": [
        "prediction1 = knn.predict(tdf13)\n",
        "count = 0\n",
        "for i in prediction1:\n",
        "  if i==1:\n",
        "    count+=1\n",
        "print(\"KNN Accuracy:\", (count/len(tdf13))*100,\"%\")\n",
        "\n",
        "prediction2 = logreg.predict(tdf13)\n",
        "count = 0\n",
        "for i in prediction2:\n",
        "  if i==1:\n",
        "    count+=1\n",
        "print(\"Logistic Regression Accuracy:\", (count/len(tdf13))*100,\"%\")\n",
        "\n",
        "prediction3 = clf1.predict(tdf13)\n",
        "count = 0\n",
        "for i in prediction3:\n",
        "  if i==1:\n",
        "    count+=1\n",
        "print(\"SVM (Default) Accuracy:\", (count/len(tdf13))*100,\"%\")\n",
        "\n",
        "prediction4 = clf2.predict(tdf13)\n",
        "count = 0\n",
        "for i in prediction4:\n",
        "  if i==1:\n",
        "    count+=1\n",
        "print(\"SVM (Sigmoid) Accuracy:\", (count/len(tdf13))*100,\"%\")\n",
        "\n",
        "prediction5 = clf3.predict(tdf13)\n",
        "count = 0\n",
        "for i in prediction5:\n",
        "  if i==1:\n",
        "    count+=1\n",
        "print(\"SVM (Poly) Accuracy:\", (count/len(tdf13))*100,\"%\")\n",
        "\n",
        "prediction6 = treemodel.predict(tdf13)\n",
        "count = 0\n",
        "for i in prediction6:\n",
        "  if i==1:\n",
        "    count+=1\n",
        "print(\"Decision Tree Accuracy:\", (count/len(tdf13))*100,\"%\")"
      ],
      "execution_count": 0,
      "outputs": [
        {
          "output_type": "stream",
          "text": [
            "KNN Accuracy: 100.0 %\n",
            "Logistic Regression Accuracy: 100.0 %\n",
            "SVM (Default) Accuracy: 100.0 %\n",
            "SVM (Sigmoid) Accuracy: 100.0 %\n",
            "SVM (Poly) Accuracy: 100.0 %\n",
            "Decision Tree Accuracy: 100.0 %\n"
          ],
          "name": "stdout"
        }
      ]
    },
    {
      "cell_type": "code",
      "metadata": {
        "id": "c-NPEKXRb3BI",
        "colab_type": "code",
        "outputId": "b6636817-36af-44c5-e992-4000a5ab8865",
        "colab": {
          "base_uri": "https://localhost:8080/",
          "height": 741
        }
      },
      "source": [
        "k = 5\n",
        "knn = KNeighborsClassifier(n_neighbors=k)\n",
        "knn.fit(X_train14,y_train14)\n",
        "y_pred14 = knn.predict(X_test14)\n",
        "score = metrics.accuracy_score(y_test14,y_pred14)\n",
        "print(\"KNN Accuracy: \", score*100)\n",
        "\n",
        "logreg = LogisticRegression().fit(X_train14, y_train14)\n",
        "y_pred14 = logreg.predict(X_test14)\n",
        "print(\"Logistic Regression Accuracy: \", metrics.accuracy_score(y_test14, y_pred14)*100)\n",
        "\n",
        "clf1 = SVC(gamma='auto')\n",
        "clf1.fit(X_train14, y_train14)\n",
        "y_pred14 = clf1.predict(X_test14)\n",
        "print(\"SVM (Default) Accuracy: \", metrics.accuracy_score(y_pred14,y_test14)*100)\n",
        "\n",
        "clf2 = SVC(gamma='auto',kernel = 'sigmoid')\n",
        "clf2.fit(X_train14, y_train14)\n",
        "y_pred14 = clf2.predict(X_test14)\n",
        "print(\"SVM (Sigmoid) Accuracy: \", metrics.accuracy_score(y_pred14,y_test14)*100)\n",
        "\n",
        "clf3 = SVC(gamma='auto',kernel = 'poly')\n",
        "clf3.fit(X_train14, y_train14)\n",
        "y_pred14 = clf3.predict(X_test14)\n",
        "print(\"SVM (Poly) Accuracy: \", metrics.accuracy_score(y_pred14,y_test14)*100)\n",
        "\n",
        "t = tree.DecisionTreeClassifier()\n",
        "treemodel = t.fit(X_train14,y_train14)\n",
        "pred = treemodel.predict(X_test14)\n",
        "\n",
        "print(classification_report(y_test14,pred))\n",
        "tree.plot_tree(treemodel.fit(X_test14, y_test14))"
      ],
      "execution_count": 0,
      "outputs": [
        {
          "output_type": "stream",
          "text": [
            "KNN Accuracy:  98.90510948905109\n",
            "Logistic Regression Accuracy:  98.54014598540147\n",
            "SVM (Default) Accuracy:  98.90510948905109\n",
            "SVM (Sigmoid) Accuracy:  90.14598540145985\n",
            "SVM (Poly) Accuracy:  98.90510948905109\n",
            "              precision    recall  f1-score   support\n",
            "\n",
            "           0       1.00      0.89      0.94        27\n",
            "           1       0.99      1.00      0.99       247\n",
            "\n",
            "    accuracy                           0.99       274\n",
            "   macro avg       0.99      0.94      0.97       274\n",
            "weighted avg       0.99      0.99      0.99       274\n",
            "\n"
          ],
          "name": "stdout"
        },
        {
          "output_type": "execute_result",
          "data": {
            "text/plain": [
              "[Text(148.8, 199.32, 'X[0] <= -1.218\\ngini = 0.178\\nsamples = 274\\nvalue = [27, 247]'),\n",
              " Text(111.60000000000001, 163.07999999999998, 'gini = 0.0\\nsamples = 24\\nvalue = [24, 0]'),\n",
              " Text(186.0, 163.07999999999998, 'X[0] <= -0.602\\ngini = 0.024\\nsamples = 250\\nvalue = [3, 247]'),\n",
              " Text(111.60000000000001, 126.83999999999999, 'X[0] <= -0.749\\ngini = 0.117\\nsamples = 32\\nvalue = [2, 30]'),\n",
              " Text(74.4, 90.6, 'X[0] <= -0.947\\ngini = 0.062\\nsamples = 31\\nvalue = [1, 30]'),\n",
              " Text(37.2, 54.359999999999985, 'gini = 0.0\\nsamples = 25\\nvalue = [0, 25]'),\n",
              " Text(111.60000000000001, 54.359999999999985, 'X[0] <= -0.938\\ngini = 0.278\\nsamples = 6\\nvalue = [1, 5]'),\n",
              " Text(74.4, 18.119999999999976, 'gini = 0.0\\nsamples = 1\\nvalue = [1, 0]'),\n",
              " Text(148.8, 18.119999999999976, 'gini = 0.0\\nsamples = 5\\nvalue = [0, 5]'),\n",
              " Text(148.8, 90.6, 'gini = 0.0\\nsamples = 1\\nvalue = [1, 0]'),\n",
              " Text(260.40000000000003, 126.83999999999999, 'X[0] <= -0.053\\ngini = 0.009\\nsamples = 218\\nvalue = [1, 217]'),\n",
              " Text(223.20000000000002, 90.6, 'X[0] <= -0.088\\ngini = 0.033\\nsamples = 59\\nvalue = [1, 58]'),\n",
              " Text(186.0, 54.359999999999985, 'gini = 0.0\\nsamples = 58\\nvalue = [0, 58]'),\n",
              " Text(260.40000000000003, 54.359999999999985, 'gini = 0.0\\nsamples = 1\\nvalue = [1, 0]'),\n",
              " Text(297.6, 90.6, 'gini = 0.0\\nsamples = 159\\nvalue = [0, 159]')]"
            ]
          },
          "metadata": {
            "tags": []
          },
          "execution_count": 45
        },
        {
          "output_type": "display_data",
          "data": {
            "image/png": "[encoded data removed]",
            "text/plain": [
              "<Figure size 432x288 with 1 Axes>"
            ]
          },
          "metadata": {
            "tags": []
          }
        }
      ]
    },
    {
      "cell_type": "code",
      "metadata": {
        "id": "XMolq7sVq1gf",
        "colab_type": "code",
        "outputId": "0b2efdd4-2edb-44f3-90dd-8efbb156555d",
        "colab": {
          "base_uri": "https://localhost:8080/",
          "height": 119
        }
      },
      "source": [
        "prediction1 = knn.predict(tdf14)\n",
        "count = 0\n",
        "for i in prediction1:\n",
        "  if i==1:\n",
        "    count+=1\n",
        "print(\"KNN Accuracy:\", (count/len(tdf14))*100,\"%\")\n",
        "\n",
        "prediction2 = logreg.predict(tdf14)\n",
        "count = 0\n",
        "for i in prediction2:\n",
        "  if i==1:\n",
        "    count+=1\n",
        "print(\"Logistic Regression Accuracy:\", (count/len(tdf14))*100,\"%\")\n",
        "\n",
        "prediction3 = clf1.predict(tdf14)\n",
        "count = 0\n",
        "for i in prediction3:\n",
        "  if i==1:\n",
        "    count+=1\n",
        "print(\"SVM (Default) Accuracy:\", (count/len(tdf14))*100,\"%\")\n",
        "\n",
        "prediction4 = clf2.predict(tdf14)\n",
        "count = 0\n",
        "for i in prediction4:\n",
        "  if i==1:\n",
        "    count+=1\n",
        "print(\"SVM (Sigmoid) Accuracy:\", (count/len(tdf14))*100,\"%\")\n",
        "\n",
        "prediction5 = clf3.predict(tdf14)\n",
        "count = 0\n",
        "for i in prediction5:\n",
        "  if i==1:\n",
        "    count+=1\n",
        "print(\"SVM (Poly) Accuracy:\", (count/len(tdf14))*100,\"%\")\n",
        "\n",
        "prediction6 = treemodel.predict(tdf14)\n",
        "count = 0\n",
        "for i in prediction6:\n",
        "  if i==1:\n",
        "    count+=1\n",
        "print(\"Decision Tree Accuracy:\", (count/len(tdf14))*100,\"%\")"
      ],
      "execution_count": 0,
      "outputs": [
        {
          "output_type": "stream",
          "text": [
            "KNN Accuracy: 100.0 %\n",
            "Logistic Regression Accuracy: 100.0 %\n",
            "SVM (Default) Accuracy: 100.0 %\n",
            "SVM (Sigmoid) Accuracy: 100.0 %\n",
            "SVM (Poly) Accuracy: 100.0 %\n",
            "Decision Tree Accuracy: 100.0 %\n"
          ],
          "name": "stdout"
        }
      ]
    },
    {
      "cell_type": "code",
      "metadata": {
        "id": "4-uTc4ozcJOz",
        "colab_type": "code",
        "outputId": "e6f9deef-b974-4ab1-eef3-8f9b813be075",
        "colab": {
          "base_uri": "https://localhost:8080/",
          "height": 673
        }
      },
      "source": [
        "k = 5\n",
        "knn = KNeighborsClassifier(n_neighbors=k)\n",
        "knn.fit(X_train15,y_train15)\n",
        "y_pred15 = knn.predict(X_test15)\n",
        "score = metrics.accuracy_score(y_test15,y_pred15)\n",
        "print(\"KNN Accuracy: \", score*100)\n",
        "\n",
        "logreg = LogisticRegression().fit(X_train15, y_train15)\n",
        "y_pred15 = logreg.predict(X_test15)\n",
        "print(\"Logistic Regression Accuracy: \", metrics.accuracy_score(y_test15, y_pred15)*100)\n",
        "\n",
        "clf1 = SVC(gamma='auto')\n",
        "clf1.fit(X_train15, y_train15)\n",
        "y_pred15 = clf1.predict(X_test15)\n",
        "print(\"SVM (Default) Accuracy: \", metrics.accuracy_score(y_pred7,y_test7)*100)\n",
        "\n",
        "clf2 = SVC(gamma='auto',kernel = 'sigmoid')\n",
        "clf2.fit(X_train15, y_train15)\n",
        "y_pred15 = clf2.predict(X_test15)\n",
        "print(\"SVM (Sigmoid) Accuracy: \", metrics.accuracy_score(y_pred15,y_test15)*100)\n",
        "\n",
        "clf3 = SVC(gamma='auto',kernel = 'poly')\n",
        "clf3.fit(X_train15, y_train15)\n",
        "y_pred15 = clf3.predict(X_test15)\n",
        "print(\"SVM (Poly) Accuracy: \", metrics.accuracy_score(y_pred15,y_test15)*100)\n",
        "\n",
        "t = tree.DecisionTreeClassifier()\n",
        "treemodel = t.fit(X_train15,y_train15)\n",
        "pred = treemodel.predict(X_test15)\n",
        "\n",
        "print(classification_report(y_test2,pred))\n",
        "tree.plot_tree(treemodel.fit(X_test15, y_test15))"
      ],
      "execution_count": 0,
      "outputs": [
        {
          "output_type": "stream",
          "text": [
            "KNN Accuracy:  96.71532846715328\n",
            "Logistic Regression Accuracy:  92.7007299270073\n",
            "SVM (Default) Accuracy:  89.33333333333333\n",
            "SVM (Sigmoid) Accuracy:  90.14598540145985\n",
            "SVM (Poly) Accuracy:  93.06569343065694\n",
            "              precision    recall  f1-score   support\n",
            "\n",
            "           0       0.85      0.41      0.55        27\n",
            "           1       0.94      0.99      0.96       247\n",
            "\n",
            "    accuracy                           0.93       274\n",
            "   macro avg       0.89      0.70      0.76       274\n",
            "weighted avg       0.93      0.93      0.92       274\n",
            "\n"
          ],
          "name": "stdout"
        },
        {
          "output_type": "execute_result",
          "data": {
            "text/plain": [
              "[Text(191.31428571428572, 199.32, 'X[2] <= -0.642\\ngini = 0.178\\nsamples = 274\\nvalue = [27, 247]'),\n",
              " Text(143.4857142857143, 163.07999999999998, 'gini = 0.0\\nsamples = 12\\nvalue = [12, 0]'),\n",
              " Text(239.14285714285714, 163.07999999999998, 'X[2] <= 0.566\\ngini = 0.108\\nsamples = 262\\nvalue = [15, 247]'),\n",
              " Text(191.31428571428572, 126.83999999999999, 'X[4] <= 0.305\\ngini = 0.039\\nsamples = 252\\nvalue = [5, 247]'),\n",
              " Text(143.4857142857143, 90.6, 'X[2] <= -0.586\\ngini = 0.008\\nsamples = 248\\nvalue = [1, 247]'),\n",
              " Text(95.65714285714286, 54.359999999999985, 'X[5] <= 0.044\\ngini = 0.444\\nsamples = 3\\nvalue = [1, 2]'),\n",
              " Text(47.82857142857143, 18.119999999999976, 'gini = 0.0\\nsamples = 2\\nvalue = [0, 2]'),\n",
              " Text(143.4857142857143, 18.119999999999976, 'gini = 0.0\\nsamples = 1\\nvalue = [1, 0]'),\n",
              " Text(191.31428571428572, 54.359999999999985, 'gini = 0.0\\nsamples = 245\\nvalue = [0, 245]'),\n",
              " Text(239.14285714285714, 90.6, 'gini = 0.0\\nsamples = 4\\nvalue = [4, 0]'),\n",
              " Text(286.9714285714286, 126.83999999999999, 'gini = 0.0\\nsamples = 10\\nvalue = [10, 0]')]"
            ]
          },
          "metadata": {
            "tags": []
          },
          "execution_count": 47
        },
        {
          "output_type": "display_data",
          "data": {
            "image/png": "[encoded data removed]",
            "text/plain": [
              "<Figure size 432x288 with 1 Axes>"
            ]
          },
          "metadata": {
            "tags": []
          }
        }
      ]
    },
    {
      "cell_type": "code",
      "metadata": {
        "id": "FcNuPtjCcXBN",
        "colab_type": "code",
        "outputId": "bf975eaf-361a-4d60-9406-dd3876626bff",
        "colab": {
          "base_uri": "https://localhost:8080/",
          "height": 639
        }
      },
      "source": [
        "k = 5\n",
        "knn = KNeighborsClassifier(n_neighbors=k)\n",
        "knn.fit(X_train16,y_train16)\n",
        "y_pred16= knn.predict(X_test16)\n",
        "score = metrics.accuracy_score(y_test16,y_pred16)\n",
        "print(\"KNN Accuracy: \", score*100)\n",
        "\n",
        "logreg = LogisticRegression().fit(X_train16, y_train16)\n",
        "y_pred16 = logreg.predict(X_test16)\n",
        "print(\"Logistic Regression Accuracy: \", metrics.accuracy_score(y_test16, y_pred16)*100)\n",
        "\n",
        "clf1 = SVC(gamma='auto')\n",
        "clf1.fit(X_train16, y_train16)\n",
        "y_pred16 = clf1.predict(X_test16)\n",
        "print(\"SVM (Default) Accuracy: \", metrics.accuracy_score(y_pred16,y_test16)*100)\n",
        "\n",
        "clf2 = SVC(gamma='auto',kernel = 'sigmoid')\n",
        "clf2.fit(X_train16, y_train16)\n",
        "y_pred16 = clf2.predict(X_test16)\n",
        "print(\"SVM (Sigmoid) Accuracy: \", metrics.accuracy_score(y_pred16,y_test16)*100)\n",
        "\n",
        "clf3 = SVC(gamma='auto',kernel = 'poly')\n",
        "clf3.fit(X_train16, y_train16)\n",
        "y_pred16 = clf3.predict(X_test16)\n",
        "print(\"SVM (Poly) Accuracy: \", metrics.accuracy_score(y_pred16,y_test16)*100)\n",
        "\n",
        "t = tree.DecisionTreeClassifier()\n",
        "treemodel = t.fit(X_train16,y_train16)\n",
        "pred = treemodel.predict(X_test16)\n",
        "\n",
        "print(classification_report(y_test16,pred))\n",
        "tree.plot_tree(treemodel.fit(X_test16, y_test16))"
      ],
      "execution_count": 0,
      "outputs": [
        {
          "output_type": "stream",
          "text": [
            "KNN Accuracy:  97.08029197080292\n",
            "Logistic Regression Accuracy:  94.16058394160584\n",
            "SVM (Default) Accuracy:  97.44525547445255\n",
            "SVM (Sigmoid) Accuracy:  92.7007299270073\n",
            "SVM (Poly) Accuracy:  93.7956204379562\n",
            "              precision    recall  f1-score   support\n",
            "\n",
            "           0       1.00      0.74      0.85        27\n",
            "           1       0.97      1.00      0.99       247\n",
            "\n",
            "    accuracy                           0.97       274\n",
            "   macro avg       0.99      0.87      0.92       274\n",
            "weighted avg       0.98      0.97      0.97       274\n",
            "\n"
          ],
          "name": "stdout"
        },
        {
          "output_type": "execute_result",
          "data": {
            "text/plain": [
              "[Text(167.4, 195.696, 'X[2] <= -0.637\\ngini = 0.178\\nsamples = 274\\nvalue = [27, 247]'),\n",
              " Text(111.60000000000001, 152.208, 'gini = 0.0\\nsamples = 22\\nvalue = [22, 0]'),\n",
              " Text(223.20000000000002, 152.208, 'X[1] <= 0.28\\ngini = 0.039\\nsamples = 252\\nvalue = [5, 247]'),\n",
              " Text(167.4, 108.72, 'X[2] <= -0.399\\ngini = 0.024\\nsamples = 250\\nvalue = [3, 247]'),\n",
              " Text(111.60000000000001, 65.232, 'X[0] <= -0.006\\ngini = 0.355\\nsamples = 13\\nvalue = [3, 10]'),\n",
              " Text(55.800000000000004, 21.744, 'gini = 0.0\\nsamples = 10\\nvalue = [0, 10]'),\n",
              " Text(167.4, 21.744, 'gini = 0.0\\nsamples = 3\\nvalue = [3, 0]'),\n",
              " Text(223.20000000000002, 65.232, 'gini = 0.0\\nsamples = 237\\nvalue = [0, 237]'),\n",
              " Text(279.0, 108.72, 'gini = 0.0\\nsamples = 2\\nvalue = [2, 0]')]"
            ]
          },
          "metadata": {
            "tags": []
          },
          "execution_count": 48
        },
        {
          "output_type": "display_data",
          "data": {
            "image/png": "[encoded data removed]",
            "text/plain": [
              "<Figure size 432x288 with 1 Axes>"
            ]
          },
          "metadata": {
            "tags": []
          }
        }
      ]
    },
    {
      "cell_type": "code",
      "metadata": {
        "id": "PgCo6ZGSchfl",
        "colab_type": "code",
        "outputId": "812c227d-69f1-4535-ef6c-dd828dcf5eee",
        "colab": {
          "base_uri": "https://localhost:8080/",
          "height": 707
        }
      },
      "source": [
        "k = 5\n",
        "knn = KNeighborsClassifier(n_neighbors=k)\n",
        "knn.fit(X_train17,y_train17)\n",
        "y_pred17 = knn.predict(X_test17)\n",
        "score = metrics.accuracy_score(y_test17,y_pred17)\n",
        "print(\"KNN Accuracy: \", score*100)\n",
        "\n",
        "logreg = LogisticRegression().fit(X_train17, y_train17)\n",
        "y_pred17 = logreg.predict(X_test17)\n",
        "print(\"Logistic Regression Accuracy: \", metrics.accuracy_score(y_test17, y_pred17)*100)\n",
        "\n",
        "clf1 = SVC(gamma='auto')\n",
        "clf1.fit(X_train17, y_train17)\n",
        "y_pred17 = clf1.predict(X_test17)\n",
        "print(\"SVM (Default) Accuracy: \", metrics.accuracy_score(y_pred17,y_test17)*100)\n",
        "\n",
        "clf2 = SVC(gamma='auto',kernel = 'sigmoid')\n",
        "clf2.fit(X_train17, y_train17)\n",
        "y_pred17 = clf2.predict(X_test17)\n",
        "print(\"SVM (Sigmoid) Accuracy: \", metrics.accuracy_score(y_pred17,y_test17)*100)\n",
        "\n",
        "clf3 = SVC(gamma='auto',kernel = 'poly')\n",
        "clf3.fit(X_train17, y_train17)\n",
        "y_pred17 = clf3.predict(X_test17)\n",
        "print(\"SVM (Poly) Accuracy: \", metrics.accuracy_score(y_pred17,y_test17)*100)\n",
        "\n",
        "t = tree.DecisionTreeClassifier()\n",
        "treemodel = t.fit(X_train17,y_train17)\n",
        "pred = treemodel.predict(X_test17)\n",
        "\n",
        "print(classification_report(y_test17,pred))\n",
        "tree.plot_tree(treemodel.fit(X_test17, y_test17))"
      ],
      "execution_count": 0,
      "outputs": [
        {
          "output_type": "stream",
          "text": [
            "KNN Accuracy:  99.24528301886792\n",
            "Logistic Regression Accuracy:  97.35849056603773\n",
            "SVM (Default) Accuracy:  100.0\n",
            "SVM (Sigmoid) Accuracy:  89.43396226415095\n",
            "SVM (Poly) Accuracy:  100.0\n",
            "              precision    recall  f1-score   support\n",
            "\n",
            "           0       0.75      0.75      0.75        28\n",
            "           1       0.97      0.97      0.97       237\n",
            "\n",
            "    accuracy                           0.95       265\n",
            "   macro avg       0.86      0.86      0.86       265\n",
            "weighted avg       0.95      0.95      0.95       265\n",
            "\n"
          ],
          "name": "stdout"
        },
        {
          "output_type": "stream",
          "text": [
            "/usr/local/lib/python3.6/dist-packages/sklearn/linear_model/_logistic.py:940: ConvergenceWarning: lbfgs failed to converge (status=1):\n",
            "STOP: TOTAL NO. of ITERATIONS REACHED LIMIT.\n",
            "\n",
            "Increase the number of iterations (max_iter) or scale the data as shown in:\n",
            "    https://scikit-learn.org/stable/modules/preprocessing.html\n",
            "Please also refer to the documentation for alternative solver options:\n",
            "    https://scikit-learn.org/stable/modules/linear_model.html#logistic-regression\n",
            "  extra_warning_msg=_LOGISTIC_SOLVER_CONVERGENCE_MSG)\n"
          ],
          "name": "stderr"
        },
        {
          "output_type": "execute_result",
          "data": {
            "text/plain": [
              "[Text(200.88000000000002, 181.2, 'X[4] <= 657.02\\ngini = 0.189\\nsamples = 265\\nvalue = [28, 237]'),\n",
              " Text(133.92000000000002, 108.72, 'X[1] <= 0.423\\ngini = 0.017\\nsamples = 239\\nvalue = [2, 237]'),\n",
              " Text(66.96000000000001, 36.23999999999998, 'gini = 0.0\\nsamples = 237\\nvalue = [0, 237]'),\n",
              " Text(200.88000000000002, 36.23999999999998, 'gini = 0.0\\nsamples = 2\\nvalue = [2, 0]'),\n",
              " Text(267.84000000000003, 108.72, 'gini = 0.0\\nsamples = 26\\nvalue = [26, 0]')]"
            ]
          },
          "metadata": {
            "tags": []
          },
          "execution_count": 49
        },
        {
          "output_type": "display_data",
          "data": {
            "image/png": "[encoded data removed]",
            "text/plain": [
              "<Figure size 432x288 with 1 Axes>"
            ]
          },
          "metadata": {
            "tags": []
          }
        }
      ]
    },
    {
      "cell_type": "code",
      "metadata": {
        "id": "g_c4YkZj2Za4",
        "colab_type": "code",
        "outputId": "4d8b995f-be29-43b3-f200-5229f79c7f19",
        "colab": {
          "base_uri": "https://localhost:8080/",
          "height": 119
        }
      },
      "source": [
        "prediction1 = knn.predict(tdf17)\n",
        "count = 0\n",
        "for i in prediction1:\n",
        "  if i==1:\n",
        "    count+=1\n",
        "print(\"KNN Accuracy:\", (count/len(tdf17))*100,\"%\")\n",
        "\n",
        "prediction2 = logreg.predict(tdf17)\n",
        "count = 0\n",
        "for i in prediction2:\n",
        "  if i==1:\n",
        "    count+=1\n",
        "print(\"Logistic Regression Accuracy:\", (count/len(tdf17))*100,\"%\")\n",
        "\n",
        "prediction3 = clf1.predict(tdf17)\n",
        "count = 0\n",
        "for i in prediction3:\n",
        "  if i==1:\n",
        "    count+=1\n",
        "print(\"SVM (Default) Accuracy:\", (count/len(tdf17))*100,\"%\")\n",
        "\n",
        "prediction4 = clf2.predict(tdf17)\n",
        "count = 0\n",
        "for i in prediction4:\n",
        "  if i==1:\n",
        "    count+=1\n",
        "print(\"SVM (Sigmoid) Accuracy:\", (count/len(tdf17))*100,\"%\")\n",
        "\n",
        "prediction5 = clf3.predict(tdf17)\n",
        "count = 0\n",
        "for i in prediction5:\n",
        "  if i==1:\n",
        "    count+=1\n",
        "print(\"SVM (Poly) Accuracy:\", (count/len(tdf17))*100,\"%\")\n",
        "\n",
        "prediction6 = treemodel.predict(tdf17)\n",
        "count = 0\n",
        "for i in prediction6:\n",
        "  if i==1:\n",
        "    count+=1\n",
        "print(\"Decision Tree Accuracy:\", (count/len(tdf17))*100,\"%\")"
      ],
      "execution_count": 0,
      "outputs": [
        {
          "output_type": "stream",
          "text": [
            "KNN Accuracy: 100.0 %\n",
            "Logistic Regression Accuracy: 100.0 %\n",
            "SVM (Default) Accuracy: 100.0 %\n",
            "SVM (Sigmoid) Accuracy: 100.0 %\n",
            "SVM (Poly) Accuracy: 100.0 %\n",
            "Decision Tree Accuracy: 100.0 %\n"
          ],
          "name": "stdout"
        }
      ]
    }
  ]
}